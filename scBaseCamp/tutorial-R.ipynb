{
 "cells": [
  {
   "cell_type": "markdown",
   "metadata": {},
   "source": [
    "# Summary\n",
    "\n",
    "* This is a tutorial on using R (& Python via [Reticulate](https://rstudio.github.io/reticulate/)) \n",
    "  for accessing the scBaseCamp dataset hosted by the Arc Institute.\n",
    "* The data can be streamed or downloaded locally.\n",
    "  * For small jobs (e.g., summarizing the some metadata), streaming is recommended.\n",
    "  * For large jobs (e.g., training a model), downloading is recommended.\n",
    "* See the [README](README.md#metadata) for a description of the obs metadata."
   ]
  },
  {
   "cell_type": "markdown",
   "metadata": {},
   "source": [
    "# Setup"
   ]
  },
  {
   "cell_type": "markdown",
   "metadata": {},
   "source": [
    "### Installation\n",
    "\n",
    "If needed, install the necessary dependencies.\n",
    "\n",
    "You can use the [conda environment](../conda_envs/R.yml) provided in this git repository."
   ]
  },
  {
   "cell_type": "markdown",
   "metadata": {},
   "source": [
    "# Load libraries"
   ]
  },
  {
   "cell_type": "code",
   "execution_count": 13,
   "metadata": {
    "vscode": {
     "languageId": "r"
    }
   },
   "outputs": [
    {
     "name": "stderr",
     "output_type": "stream",
     "text": [
      "\n",
      "Attaching package: ‘arrow’\n",
      "\n",
      "\n",
      "The following object is masked from ‘package:utils’:\n",
      "\n",
      "    timestamp\n",
      "\n",
      "\n"
     ]
    }
   ],
   "source": [
    "# Load required libraries\n",
    "library(dplyr)\n",
    "library(arrow)\n",
    "library(reticulate)\n",
    "os = import(\"os\")\n",
    "pd = import(\"pandas\")\n",
    "ad = import(\"anndata\")\n",
    "gcsfs = import(\"gcsfs\")"
   ]
  },
  {
   "cell_type": "code",
   "execution_count": 2,
   "metadata": {
    "vscode": {
     "languageId": "r"
    }
   },
   "outputs": [],
   "source": [
    "# max print rows\n",
    "options(repr.matrix.max.rows=4)"
   ]
  },
  {
   "cell_type": "markdown",
   "metadata": {},
   "source": [
    "# Data location"
   ]
  },
  {
   "cell_type": "code",
   "execution_count": 3,
   "metadata": {
    "vscode": {
     "languageId": "r"
    }
   },
   "outputs": [],
   "source": [
    "# GCS bucket path\n",
    "gcs_base_path = \"gs://arc-ctc-scbasecamp/2025-02-25\""
   ]
  },
  {
   "cell_type": "markdown",
   "metadata": {
    "vscode": {
     "languageId": "r"
    }
   },
   "source": [
    "# List available files\n",
    "\n",
    "Let's see what we have to work with!"
   ]
  },
  {
   "cell_type": "code",
   "execution_count": 47,
   "metadata": {
    "vscode": {
     "languageId": "r"
    }
   },
   "outputs": [],
   "source": [
    "# initialize GCS file system for reading data from GCS\n",
    "fs = gcsfs$GCSFileSystem(\n",
    "    token = Sys.getenv(\"GOOGLE_APPLICATION_CREDENTIALS\")\n",
    ")"
   ]
  },
  {
   "cell_type": "code",
   "execution_count": 53,
   "metadata": {
    "vscode": {
     "languageId": "r"
    }
   },
   "outputs": [],
   "source": [
    "# helper function\n",
    "get_parquet_files = function(gcs_base_path, target = NULL, endswith = NULL) {\n",
    "  files = fs$glob(os$path$join(gcs_base_path, \"**\"))\n",
    "  \n",
    "\n",
    "  if (!is.null(target)) {\n",
    "    files = files[sapply(files, function(f) basename(f) == target)]\n",
    "  } else if (!is.null(endswith)) {\n",
    "    files = files[sapply(files, function(f) grepl(paste0(endswith, \"$\"), f))]\n",
    "  }\n",
    "  \n",
    "  file_list = lapply(files, function(f) {\n",
    "    parts = unlist(strsplit(f, \"/\"))\n",
    "    c(parts[(length(parts)-2):(length(parts)-1)], f)\n",
    "  })\n",
    "  \n",
    "  file_df = as.data.frame(do.call(rbind, file_list), stringsAsFactors = FALSE)\n",
    "  colnames(file_df) = c(\"organism\", \"feature_type\", \"file_path\")\n",
    "  \n",
    "  return(file_df)\n",
    "}"
   ]
  },
  {
   "cell_type": "markdown",
   "metadata": {
    "vscode": {
     "languageId": "r"
    }
   },
   "source": [
    "## Parquet files\n",
    "\n",
    "* Contain the obs metadata"
   ]
  },
  {
   "cell_type": "code",
   "execution_count": 54,
   "metadata": {
    "vscode": {
     "languageId": "r"
    }
   },
   "outputs": [
    {
     "data": {
      "text/html": [
       "'gs://arc-ctc-scbasecamp/2025-02-25/metadata'"
      ],
      "text/latex": [
       "'gs://arc-ctc-scbasecamp/2025-02-25/metadata'"
      ],
      "text/markdown": [
       "'gs://arc-ctc-scbasecamp/2025-02-25/metadata'"
      ],
      "text/plain": [
       "[1] \"gs://arc-ctc-scbasecamp/2025-02-25/metadata\""
      ]
     },
     "metadata": {},
     "output_type": "display_data"
    }
   ],
   "source": [
    "# set the path to the metadata files\n",
    "gcs_path = file.path(gcs_base_path, \"metadata\")\n",
    "gcs_path"
   ]
  },
  {
   "cell_type": "code",
   "execution_count": 55,
   "metadata": {
    "vscode": {
     "languageId": "r"
    }
   },
   "outputs": [
    {
     "data": {
      "text/html": [
       "<table class=\"dataframe\">\n",
       "<caption>A data.frame: 63 × 3</caption>\n",
       "<thead>\n",
       "\t<tr><th scope=col>organism</th><th scope=col>feature_type</th><th scope=col>file_path</th></tr>\n",
       "\t<tr><th scope=col>&lt;chr&gt;</th><th scope=col>&lt;chr&gt;</th><th scope=col>&lt;chr&gt;</th></tr>\n",
       "</thead>\n",
       "<tbody>\n",
       "\t<tr><td>Arabidopsis_thaliana</td><td>Gene            </td><td>arc-ctc-scbasecamp/2025-02-25/metadata/Arabidopsis_thaliana/Gene/sample_metadata.parquet.gz            </td></tr>\n",
       "\t<tr><td>Arabidopsis_thaliana</td><td>GeneFull_Ex50pAS</td><td>arc-ctc-scbasecamp/2025-02-25/metadata/Arabidopsis_thaliana/GeneFull_Ex50pAS/sample_metadata.parquet.gz</td></tr>\n",
       "\t<tr><td>⋮</td><td>⋮</td><td>⋮</td></tr>\n",
       "\t<tr><td>Zea_mays</td><td>GeneFull_Ex50pAS</td><td>arc-ctc-scbasecamp/2025-02-25/metadata/Zea_mays/GeneFull_Ex50pAS/sample_metadata.parquet.gz</td></tr>\n",
       "\t<tr><td>Zea_mays</td><td>Velocyto        </td><td>arc-ctc-scbasecamp/2025-02-25/metadata/Zea_mays/Velocyto/sample_metadata.parquet.gz        </td></tr>\n",
       "</tbody>\n",
       "</table>\n"
      ],
      "text/latex": [
       "A data.frame: 63 × 3\n",
       "\\begin{tabular}{lll}\n",
       " organism & feature\\_type & file\\_path\\\\\n",
       " <chr> & <chr> & <chr>\\\\\n",
       "\\hline\n",
       "\t Arabidopsis\\_thaliana & Gene             & arc-ctc-scbasecamp/2025-02-25/metadata/Arabidopsis\\_thaliana/Gene/sample\\_metadata.parquet.gz            \\\\\n",
       "\t Arabidopsis\\_thaliana & GeneFull\\_Ex50pAS & arc-ctc-scbasecamp/2025-02-25/metadata/Arabidopsis\\_thaliana/GeneFull\\_Ex50pAS/sample\\_metadata.parquet.gz\\\\\n",
       "\t ⋮ & ⋮ & ⋮\\\\\n",
       "\t Zea\\_mays & GeneFull\\_Ex50pAS & arc-ctc-scbasecamp/2025-02-25/metadata/Zea\\_mays/GeneFull\\_Ex50pAS/sample\\_metadata.parquet.gz\\\\\n",
       "\t Zea\\_mays & Velocyto         & arc-ctc-scbasecamp/2025-02-25/metadata/Zea\\_mays/Velocyto/sample\\_metadata.parquet.gz        \\\\\n",
       "\\end{tabular}\n"
      ],
      "text/markdown": [
       "\n",
       "A data.frame: 63 × 3\n",
       "\n",
       "| organism &lt;chr&gt; | feature_type &lt;chr&gt; | file_path &lt;chr&gt; |\n",
       "|---|---|---|\n",
       "| Arabidopsis_thaliana | Gene             | arc-ctc-scbasecamp/2025-02-25/metadata/Arabidopsis_thaliana/Gene/sample_metadata.parquet.gz             |\n",
       "| Arabidopsis_thaliana | GeneFull_Ex50pAS | arc-ctc-scbasecamp/2025-02-25/metadata/Arabidopsis_thaliana/GeneFull_Ex50pAS/sample_metadata.parquet.gz |\n",
       "| ⋮ | ⋮ | ⋮ |\n",
       "| Zea_mays | GeneFull_Ex50pAS | arc-ctc-scbasecamp/2025-02-25/metadata/Zea_mays/GeneFull_Ex50pAS/sample_metadata.parquet.gz |\n",
       "| Zea_mays | Velocyto         | arc-ctc-scbasecamp/2025-02-25/metadata/Zea_mays/Velocyto/sample_metadata.parquet.gz         |\n",
       "\n"
      ],
      "text/plain": [
       "   organism             feature_type    \n",
       "1  Arabidopsis_thaliana Gene            \n",
       "2  Arabidopsis_thaliana GeneFull_Ex50pAS\n",
       "⋮  ⋮                    ⋮               \n",
       "62 Zea_mays             GeneFull_Ex50pAS\n",
       "63 Zea_mays             Velocyto        \n",
       "   file_path                                                                                              \n",
       "1  arc-ctc-scbasecamp/2025-02-25/metadata/Arabidopsis_thaliana/Gene/sample_metadata.parquet.gz            \n",
       "2  arc-ctc-scbasecamp/2025-02-25/metadata/Arabidopsis_thaliana/GeneFull_Ex50pAS/sample_metadata.parquet.gz\n",
       "⋮  ⋮                                                                                                      \n",
       "62 arc-ctc-scbasecamp/2025-02-25/metadata/Zea_mays/GeneFull_Ex50pAS/sample_metadata.parquet.gz            \n",
       "63 arc-ctc-scbasecamp/2025-02-25/metadata/Zea_mays/Velocyto/sample_metadata.parquet.gz                    "
      ]
     },
     "metadata": {},
     "output_type": "display_data"
    }
   ],
   "source": [
    "# list files\n",
    "sample_pq_files = get_parquet_files(gcs_path, \"sample_metadata.parquet.gz\")\n",
    "sample_pq_files "
   ]
  },
  {
   "cell_type": "markdown",
   "metadata": {},
   "source": [
    "### Per-obs metadata"
   ]
  },
  {
   "cell_type": "code",
   "execution_count": 56,
   "metadata": {
    "vscode": {
     "languageId": "r"
    }
   },
   "outputs": [
    {
     "data": {
      "text/html": [
       "<table class=\"dataframe\">\n",
       "<caption>A data.frame: 6 × 3</caption>\n",
       "<thead>\n",
       "\t<tr><th></th><th scope=col>organism</th><th scope=col>feature_type</th><th scope=col>file_path</th></tr>\n",
       "\t<tr><th></th><th scope=col>&lt;chr&gt;</th><th scope=col>&lt;chr&gt;</th><th scope=col>&lt;chr&gt;</th></tr>\n",
       "</thead>\n",
       "<tbody>\n",
       "\t<tr><th scope=row>1</th><td>Arabidopsis_thaliana</td><td>Gene            </td><td>arc-ctc-scbasecamp/2025-02-25/metadata/Arabidopsis_thaliana/Gene/obs_metadata.parquet.gz            </td></tr>\n",
       "\t<tr><th scope=row>2</th><td>Arabidopsis_thaliana</td><td>GeneFull_Ex50pAS</td><td>arc-ctc-scbasecamp/2025-02-25/metadata/Arabidopsis_thaliana/GeneFull_Ex50pAS/obs_metadata.parquet.gz</td></tr>\n",
       "\t<tr><th scope=row>⋮</th><td>⋮</td><td>⋮</td><td>⋮</td></tr>\n",
       "\t<tr><th scope=row>5</th><td>Caenorhabditis_elegans</td><td>Gene            </td><td>arc-ctc-scbasecamp/2025-02-25/metadata/Caenorhabditis_elegans/Gene/obs_metadata.parquet.gz            </td></tr>\n",
       "\t<tr><th scope=row>6</th><td>Caenorhabditis_elegans</td><td>GeneFull_Ex50pAS</td><td>arc-ctc-scbasecamp/2025-02-25/metadata/Caenorhabditis_elegans/GeneFull_Ex50pAS/obs_metadata.parquet.gz</td></tr>\n",
       "</tbody>\n",
       "</table>\n"
      ],
      "text/latex": [
       "A data.frame: 6 × 3\n",
       "\\begin{tabular}{r|lll}\n",
       "  & organism & feature\\_type & file\\_path\\\\\n",
       "  & <chr> & <chr> & <chr>\\\\\n",
       "\\hline\n",
       "\t1 & Arabidopsis\\_thaliana & Gene             & arc-ctc-scbasecamp/2025-02-25/metadata/Arabidopsis\\_thaliana/Gene/obs\\_metadata.parquet.gz            \\\\\n",
       "\t2 & Arabidopsis\\_thaliana & GeneFull\\_Ex50pAS & arc-ctc-scbasecamp/2025-02-25/metadata/Arabidopsis\\_thaliana/GeneFull\\_Ex50pAS/obs\\_metadata.parquet.gz\\\\\n",
       "\t⋮ & ⋮ & ⋮ & ⋮\\\\\n",
       "\t5 & Caenorhabditis\\_elegans & Gene             & arc-ctc-scbasecamp/2025-02-25/metadata/Caenorhabditis\\_elegans/Gene/obs\\_metadata.parquet.gz            \\\\\n",
       "\t6 & Caenorhabditis\\_elegans & GeneFull\\_Ex50pAS & arc-ctc-scbasecamp/2025-02-25/metadata/Caenorhabditis\\_elegans/GeneFull\\_Ex50pAS/obs\\_metadata.parquet.gz\\\\\n",
       "\\end{tabular}\n"
      ],
      "text/markdown": [
       "\n",
       "A data.frame: 6 × 3\n",
       "\n",
       "| <!--/--> | organism &lt;chr&gt; | feature_type &lt;chr&gt; | file_path &lt;chr&gt; |\n",
       "|---|---|---|---|\n",
       "| 1 | Arabidopsis_thaliana | Gene             | arc-ctc-scbasecamp/2025-02-25/metadata/Arabidopsis_thaliana/Gene/obs_metadata.parquet.gz             |\n",
       "| 2 | Arabidopsis_thaliana | GeneFull_Ex50pAS | arc-ctc-scbasecamp/2025-02-25/metadata/Arabidopsis_thaliana/GeneFull_Ex50pAS/obs_metadata.parquet.gz |\n",
       "| ⋮ | ⋮ | ⋮ | ⋮ |\n",
       "| 5 | Caenorhabditis_elegans | Gene             | arc-ctc-scbasecamp/2025-02-25/metadata/Caenorhabditis_elegans/Gene/obs_metadata.parquet.gz             |\n",
       "| 6 | Caenorhabditis_elegans | GeneFull_Ex50pAS | arc-ctc-scbasecamp/2025-02-25/metadata/Caenorhabditis_elegans/GeneFull_Ex50pAS/obs_metadata.parquet.gz |\n",
       "\n"
      ],
      "text/plain": [
       "  organism               feature_type    \n",
       "1 Arabidopsis_thaliana   Gene            \n",
       "2 Arabidopsis_thaliana   GeneFull_Ex50pAS\n",
       "⋮ ⋮                      ⋮               \n",
       "5 Caenorhabditis_elegans Gene            \n",
       "6 Caenorhabditis_elegans GeneFull_Ex50pAS\n",
       "  file_path                                                                                             \n",
       "1 arc-ctc-scbasecamp/2025-02-25/metadata/Arabidopsis_thaliana/Gene/obs_metadata.parquet.gz              \n",
       "2 arc-ctc-scbasecamp/2025-02-25/metadata/Arabidopsis_thaliana/GeneFull_Ex50pAS/obs_metadata.parquet.gz  \n",
       "⋮ ⋮                                                                                                     \n",
       "5 arc-ctc-scbasecamp/2025-02-25/metadata/Caenorhabditis_elegans/Gene/obs_metadata.parquet.gz            \n",
       "6 arc-ctc-scbasecamp/2025-02-25/metadata/Caenorhabditis_elegans/GeneFull_Ex50pAS/obs_metadata.parquet.gz"
      ]
     },
     "metadata": {},
     "output_type": "display_data"
    }
   ],
   "source": [
    "# list files\n",
    "obs_pq_files = get_parquet_files(gcs_path, \"obs_metadata.parquet.gz\")\n",
    "obs_pq_files %>% head()"
   ]
  },
  {
   "cell_type": "markdown",
   "metadata": {},
   "source": [
    "# h5ad files"
   ]
  },
  {
   "cell_type": "code",
   "execution_count": 9,
   "metadata": {
    "vscode": {
     "languageId": "r"
    }
   },
   "outputs": [
    {
     "data": {
      "text/html": [
       "'gs://arc-ctc-scbasecamp/2025-02-25/h5ad'"
      ],
      "text/latex": [
       "'gs://arc-ctc-scbasecamp/2025-02-25/h5ad'"
      ],
      "text/markdown": [
       "'gs://arc-ctc-scbasecamp/2025-02-25/h5ad'"
      ],
      "text/plain": [
       "[1] \"gs://arc-ctc-scbasecamp/2025-02-25/h5ad\""
      ]
     },
     "metadata": {},
     "output_type": "display_data"
    }
   ],
   "source": [
    "gcs_path = file.path(gcs_base_path, \"h5ad\")\n",
    "gcs_path"
   ]
  },
  {
   "cell_type": "code",
   "execution_count": 10,
   "metadata": {
    "vscode": {
     "languageId": "r"
    }
   },
   "outputs": [
    {
     "data": {
      "text/html": [
       "<table class=\"dataframe\">\n",
       "<caption>A data.frame: 46402 × 3</caption>\n",
       "<thead>\n",
       "\t<tr><th scope=col>organism</th><th scope=col>feature_type</th><th scope=col>file_path</th></tr>\n",
       "\t<tr><th scope=col>&lt;chr&gt;</th><th scope=col>&lt;chr&gt;</th><th scope=col>&lt;chr&gt;</th></tr>\n",
       "</thead>\n",
       "<tbody>\n",
       "\t<tr><td>Arabidopsis_thaliana</td><td>Gene</td><td>arc-ctc-scbasecamp/2025-02-25/h5ad/Arabidopsis_thaliana/Gene/SRX15202187.h5ad.gz</td></tr>\n",
       "\t<tr><td>Arabidopsis_thaliana</td><td>Gene</td><td>arc-ctc-scbasecamp/2025-02-25/h5ad/Arabidopsis_thaliana/Gene/SRX15202188.h5ad.gz</td></tr>\n",
       "\t<tr><td>⋮</td><td>⋮</td><td>⋮</td></tr>\n",
       "\t<tr><td>Zea_mays</td><td>Velocyto</td><td>arc-ctc-scbasecamp/2025-02-25/h5ad/Zea_mays/Velocyto/SRX19383767.h5ad.gz</td></tr>\n",
       "\t<tr><td>Zea_mays</td><td>Velocyto</td><td>arc-ctc-scbasecamp/2025-02-25/h5ad/Zea_mays/Velocyto/SRX19383768.h5ad.gz</td></tr>\n",
       "</tbody>\n",
       "</table>\n"
      ],
      "text/latex": [
       "A data.frame: 46402 × 3\n",
       "\\begin{tabular}{lll}\n",
       " organism & feature\\_type & file\\_path\\\\\n",
       " <chr> & <chr> & <chr>\\\\\n",
       "\\hline\n",
       "\t Arabidopsis\\_thaliana & Gene & arc-ctc-scbasecamp/2025-02-25/h5ad/Arabidopsis\\_thaliana/Gene/SRX15202187.h5ad.gz\\\\\n",
       "\t Arabidopsis\\_thaliana & Gene & arc-ctc-scbasecamp/2025-02-25/h5ad/Arabidopsis\\_thaliana/Gene/SRX15202188.h5ad.gz\\\\\n",
       "\t ⋮ & ⋮ & ⋮\\\\\n",
       "\t Zea\\_mays & Velocyto & arc-ctc-scbasecamp/2025-02-25/h5ad/Zea\\_mays/Velocyto/SRX19383767.h5ad.gz\\\\\n",
       "\t Zea\\_mays & Velocyto & arc-ctc-scbasecamp/2025-02-25/h5ad/Zea\\_mays/Velocyto/SRX19383768.h5ad.gz\\\\\n",
       "\\end{tabular}\n"
      ],
      "text/markdown": [
       "\n",
       "A data.frame: 46402 × 3\n",
       "\n",
       "| organism &lt;chr&gt; | feature_type &lt;chr&gt; | file_path &lt;chr&gt; |\n",
       "|---|---|---|\n",
       "| Arabidopsis_thaliana | Gene | arc-ctc-scbasecamp/2025-02-25/h5ad/Arabidopsis_thaliana/Gene/SRX15202187.h5ad.gz |\n",
       "| Arabidopsis_thaliana | Gene | arc-ctc-scbasecamp/2025-02-25/h5ad/Arabidopsis_thaliana/Gene/SRX15202188.h5ad.gz |\n",
       "| ⋮ | ⋮ | ⋮ |\n",
       "| Zea_mays | Velocyto | arc-ctc-scbasecamp/2025-02-25/h5ad/Zea_mays/Velocyto/SRX19383767.h5ad.gz |\n",
       "| Zea_mays | Velocyto | arc-ctc-scbasecamp/2025-02-25/h5ad/Zea_mays/Velocyto/SRX19383768.h5ad.gz |\n",
       "\n"
      ],
      "text/plain": [
       "      organism             feature_type\n",
       "1     Arabidopsis_thaliana Gene        \n",
       "2     Arabidopsis_thaliana Gene        \n",
       "⋮     ⋮                    ⋮           \n",
       "46401 Zea_mays             Velocyto    \n",
       "46402 Zea_mays             Velocyto    \n",
       "      file_path                                                                       \n",
       "1     arc-ctc-scbasecamp/2025-02-25/h5ad/Arabidopsis_thaliana/Gene/SRX15202187.h5ad.gz\n",
       "2     arc-ctc-scbasecamp/2025-02-25/h5ad/Arabidopsis_thaliana/Gene/SRX15202188.h5ad.gz\n",
       "⋮     ⋮                                                                               \n",
       "46401 arc-ctc-scbasecamp/2025-02-25/h5ad/Zea_mays/Velocyto/SRX19383767.h5ad.gz        \n",
       "46402 arc-ctc-scbasecamp/2025-02-25/h5ad/Zea_mays/Velocyto/SRX19383768.h5ad.gz        "
      ]
     },
     "metadata": {},
     "output_type": "display_data"
    }
   ],
   "source": [
    "# list files\n",
    "h5ad_files = get_parquet_files(gcs_path, endswith=\".h5ad.gz\")\n",
    "h5ad_files "
   ]
  },
  {
   "cell_type": "markdown",
   "metadata": {},
   "source": [
    "# Obs metadata\n",
    "\n",
    "* `obs` ≃ cell"
   ]
  },
  {
   "cell_type": "code",
   "execution_count": 11,
   "metadata": {
    "vscode": {
     "languageId": "r"
    }
   },
   "outputs": [],
   "source": [
    "# select a particular STARsolo output type\n",
    "## \"GeneFull_Ex50pAS\" is most similar to CellRanger output\n",
    "target_feature_type = \"GeneFull_Ex50pAS\""
   ]
  },
  {
   "cell_type": "markdown",
   "metadata": {
    "vscode": {
     "languageId": "r"
    }
   },
   "source": [
    "### Per-sample\n",
    "\n",
    "* Useful for quickly summarizing the per-sample metadata (a small file versus the entire obs metadata file; see below)."
   ]
  },
  {
   "cell_type": "code",
   "execution_count": 57,
   "metadata": {
    "vscode": {
     "languageId": "r"
    }
   },
   "outputs": [
    {
     "data": {
      "text/html": [
       "<table class=\"dataframe\">\n",
       "<caption>A data.frame: 21 × 3</caption>\n",
       "<thead>\n",
       "\t<tr><th scope=col>organism</th><th scope=col>feature_type</th><th scope=col>file_path</th></tr>\n",
       "\t<tr><th scope=col>&lt;chr&gt;</th><th scope=col>&lt;chr&gt;</th><th scope=col>&lt;chr&gt;</th></tr>\n",
       "</thead>\n",
       "<tbody>\n",
       "\t<tr><td>Arabidopsis_thaliana</td><td>GeneFull_Ex50pAS</td><td>arc-ctc-scbasecamp/2025-02-25/metadata/Arabidopsis_thaliana/GeneFull_Ex50pAS/sample_metadata.parquet.gz</td></tr>\n",
       "\t<tr><td>Bos_taurus          </td><td>GeneFull_Ex50pAS</td><td>arc-ctc-scbasecamp/2025-02-25/metadata/Bos_taurus/GeneFull_Ex50pAS/sample_metadata.parquet.gz          </td></tr>\n",
       "\t<tr><td>⋮</td><td>⋮</td><td>⋮</td></tr>\n",
       "\t<tr><td>Sus_scrofa</td><td>GeneFull_Ex50pAS</td><td>arc-ctc-scbasecamp/2025-02-25/metadata/Sus_scrofa/GeneFull_Ex50pAS/sample_metadata.parquet.gz</td></tr>\n",
       "\t<tr><td>Zea_mays  </td><td>GeneFull_Ex50pAS</td><td>arc-ctc-scbasecamp/2025-02-25/metadata/Zea_mays/GeneFull_Ex50pAS/sample_metadata.parquet.gz  </td></tr>\n",
       "</tbody>\n",
       "</table>\n"
      ],
      "text/latex": [
       "A data.frame: 21 × 3\n",
       "\\begin{tabular}{lll}\n",
       " organism & feature\\_type & file\\_path\\\\\n",
       " <chr> & <chr> & <chr>\\\\\n",
       "\\hline\n",
       "\t Arabidopsis\\_thaliana & GeneFull\\_Ex50pAS & arc-ctc-scbasecamp/2025-02-25/metadata/Arabidopsis\\_thaliana/GeneFull\\_Ex50pAS/sample\\_metadata.parquet.gz\\\\\n",
       "\t Bos\\_taurus           & GeneFull\\_Ex50pAS & arc-ctc-scbasecamp/2025-02-25/metadata/Bos\\_taurus/GeneFull\\_Ex50pAS/sample\\_metadata.parquet.gz          \\\\\n",
       "\t ⋮ & ⋮ & ⋮\\\\\n",
       "\t Sus\\_scrofa & GeneFull\\_Ex50pAS & arc-ctc-scbasecamp/2025-02-25/metadata/Sus\\_scrofa/GeneFull\\_Ex50pAS/sample\\_metadata.parquet.gz\\\\\n",
       "\t Zea\\_mays   & GeneFull\\_Ex50pAS & arc-ctc-scbasecamp/2025-02-25/metadata/Zea\\_mays/GeneFull\\_Ex50pAS/sample\\_metadata.parquet.gz  \\\\\n",
       "\\end{tabular}\n"
      ],
      "text/markdown": [
       "\n",
       "A data.frame: 21 × 3\n",
       "\n",
       "| organism &lt;chr&gt; | feature_type &lt;chr&gt; | file_path &lt;chr&gt; |\n",
       "|---|---|---|\n",
       "| Arabidopsis_thaliana | GeneFull_Ex50pAS | arc-ctc-scbasecamp/2025-02-25/metadata/Arabidopsis_thaliana/GeneFull_Ex50pAS/sample_metadata.parquet.gz |\n",
       "| Bos_taurus           | GeneFull_Ex50pAS | arc-ctc-scbasecamp/2025-02-25/metadata/Bos_taurus/GeneFull_Ex50pAS/sample_metadata.parquet.gz           |\n",
       "| ⋮ | ⋮ | ⋮ |\n",
       "| Sus_scrofa | GeneFull_Ex50pAS | arc-ctc-scbasecamp/2025-02-25/metadata/Sus_scrofa/GeneFull_Ex50pAS/sample_metadata.parquet.gz |\n",
       "| Zea_mays   | GeneFull_Ex50pAS | arc-ctc-scbasecamp/2025-02-25/metadata/Zea_mays/GeneFull_Ex50pAS/sample_metadata.parquet.gz   |\n",
       "\n"
      ],
      "text/plain": [
       "   organism             feature_type    \n",
       "1  Arabidopsis_thaliana GeneFull_Ex50pAS\n",
       "2  Bos_taurus           GeneFull_Ex50pAS\n",
       "⋮  ⋮                    ⋮               \n",
       "20 Sus_scrofa           GeneFull_Ex50pAS\n",
       "21 Zea_mays             GeneFull_Ex50pAS\n",
       "   file_path                                                                                              \n",
       "1  arc-ctc-scbasecamp/2025-02-25/metadata/Arabidopsis_thaliana/GeneFull_Ex50pAS/sample_metadata.parquet.gz\n",
       "2  arc-ctc-scbasecamp/2025-02-25/metadata/Bos_taurus/GeneFull_Ex50pAS/sample_metadata.parquet.gz          \n",
       "⋮  ⋮                                                                                                      \n",
       "20 arc-ctc-scbasecamp/2025-02-25/metadata/Sus_scrofa/GeneFull_Ex50pAS/sample_metadata.parquet.gz          \n",
       "21 arc-ctc-scbasecamp/2025-02-25/metadata/Zea_mays/GeneFull_Ex50pAS/sample_metadata.parquet.gz            "
      ]
     },
     "metadata": {},
     "output_type": "display_data"
    }
   ],
   "source": [
    "# filter to target count type\n",
    "sample_pq_files_f = sample_pq_files %>% filter(feature_type == target_feature_type)\n",
    "sample_pq_files_f"
   ]
  },
  {
   "cell_type": "code",
   "execution_count": 59,
   "metadata": {
    "vscode": {
     "languageId": "r"
    }
   },
   "outputs": [],
   "source": [
    "#file = \"gs://arc-ctc-scbasecamp/2025-02-25/metadata/Arabidopsis_thaliana/GeneFull_Ex50pAS/obs_metadata.parquet.gz\"\n",
    "#file = \"gs://arc-ctc-scbasecamp/2025-02-25/metadata/Arabidopsis_thaliana/GeneFull_Ex50pAS/sample_metadata.parquet.gz\"\n",
    "#file = \"gs://arc-ctc-scbasecamp/2025-02-25/metadata/Arabidopsis_thaliana/GeneFull_Ex50pAS/obs_metadata.parquet.gz\"\n",
    "#open_dataset(file, format = \"parquet\") %>% collect() %>% data.frame() %>%\n",
    "#    mutate(czi_collection_id = as.character(czi_collection_id))"
   ]
  },
  {
   "cell_type": "code",
   "execution_count": 62,
   "metadata": {
    "vscode": {
     "languageId": "r"
    }
   },
   "outputs": [
    {
     "data": {
      "text/html": [
       "<table class=\"dataframe\">\n",
       "<caption>A data.frame: 9 × 14</caption>\n",
       "<thead>\n",
       "\t<tr><th scope=col>entrez_id</th><th scope=col>srx_accession</th><th scope=col>file_path</th><th scope=col>obs_count</th><th scope=col>lib_prep</th><th scope=col>tech_10x</th><th scope=col>cell_prep</th><th scope=col>organism</th><th scope=col>tissue</th><th scope=col>disease</th><th scope=col>purturbation</th><th scope=col>cell_line</th><th scope=col>czi_collection_id</th><th scope=col>czi_collection_name</th></tr>\n",
       "\t<tr><th scope=col>&lt;int&gt;</th><th scope=col>&lt;chr&gt;</th><th scope=col>&lt;chr&gt;</th><th scope=col>&lt;int&gt;</th><th scope=col>&lt;chr&gt;</th><th scope=col>&lt;chr&gt;</th><th scope=col>&lt;chr&gt;</th><th scope=col>&lt;chr&gt;</th><th scope=col>&lt;chr&gt;</th><th scope=col>&lt;chr&gt;</th><th scope=col>&lt;chr&gt;</th><th scope=col>&lt;chr&gt;</th><th scope=col>&lt;lgl&gt;</th><th scope=col>&lt;lgl&gt;</th></tr>\n",
       "</thead>\n",
       "<tbody>\n",
       "\t<tr><td>24123125</td><td>SRX17302366</td><td>gs://arc-ctc-scbasecamp/2025-02-25/h5ad/Arabidopsis_thaliana/GeneFull_Ex50pAS/SRX17302366.h5ad.gz</td><td> 9036</td><td>10x_Genomics</td><td>3_prime_gex</td><td>single_cell</td><td>Arabidopsis thaliana</td><td>other</td><td>not specified</td><td>BL (Brassinolide), 100nM, 0.5 hours post-treatment</td><td>WT Col-0</td><td>NA</td><td>NA</td></tr>\n",
       "\t<tr><td>24123140</td><td>SRX17302381</td><td>gs://arc-ctc-scbasecamp/2025-02-25/h5ad/Arabidopsis_thaliana/GeneFull_Ex50pAS/SRX17302381.h5ad.gz</td><td>14317</td><td>10x_Genomics</td><td>3_prime_gex</td><td>single_cell</td><td>Arabidopsis thaliana</td><td>other</td><td>not specified</td><td>control treatment, age: 7 days                    </td><td>WT Col-0</td><td>NA</td><td>NA</td></tr>\n",
       "\t<tr><td>⋮</td><td>⋮</td><td>⋮</td><td>⋮</td><td>⋮</td><td>⋮</td><td>⋮</td><td>⋮</td><td>⋮</td><td>⋮</td><td>⋮</td><td>⋮</td><td>⋮</td><td>⋮</td></tr>\n",
       "\t<tr><td>22946265</td><td>SRX16241286</td><td>gs://arc-ctc-scbasecamp/2025-02-25/h5ad/Caenorhabditis_elegans/GeneFull_Ex50pAS/SRX16241286.h5ad.gz</td><td>3496</td><td>10x_Genomics</td><td>3_prime_gex</td><td>single_nucleus</td><td>Caenorhabditis elegans</td><td>other</td><td>unsure       </td><td>water treatment, synchronized using nylon mesh filter, grown for 62 hours at 25°C, washed to remo...</td><td>F1 generation </td><td>NA</td><td>NA</td></tr>\n",
       "\t<tr><td>22946262</td><td>SRX16241283</td><td>gs://arc-ctc-scbasecamp/2025-02-25/h5ad/Caenorhabditis_elegans/GeneFull_Ex50pAS/SRX16241283.h5ad.gz</td><td>4767</td><td>10x_Genomics</td><td>3_prime_gex</td><td>single_nucleus</td><td>Caenorhabditis elegans</td><td>other</td><td>not specified</td><td>0.5% ethanol treatment                                                                              </td><td>not applicable</td><td>NA</td><td>NA</td></tr>\n",
       "</tbody>\n",
       "</table>\n"
      ],
      "text/latex": [
       "A data.frame: 9 × 14\n",
       "\\begin{tabular}{llllllllllllll}\n",
       " entrez\\_id & srx\\_accession & file\\_path & obs\\_count & lib\\_prep & tech\\_10x & cell\\_prep & organism & tissue & disease & purturbation & cell\\_line & czi\\_collection\\_id & czi\\_collection\\_name\\\\\n",
       " <int> & <chr> & <chr> & <int> & <chr> & <chr> & <chr> & <chr> & <chr> & <chr> & <chr> & <chr> & <lgl> & <lgl>\\\\\n",
       "\\hline\n",
       "\t 24123125 & SRX17302366 & gs://arc-ctc-scbasecamp/2025-02-25/h5ad/Arabidopsis\\_thaliana/GeneFull\\_Ex50pAS/SRX17302366.h5ad.gz &  9036 & 10x\\_Genomics & 3\\_prime\\_gex & single\\_cell & Arabidopsis thaliana & other & not specified & BL (Brassinolide), 100nM, 0.5 hours post-treatment & WT Col-0 & NA & NA\\\\\n",
       "\t 24123140 & SRX17302381 & gs://arc-ctc-scbasecamp/2025-02-25/h5ad/Arabidopsis\\_thaliana/GeneFull\\_Ex50pAS/SRX17302381.h5ad.gz & 14317 & 10x\\_Genomics & 3\\_prime\\_gex & single\\_cell & Arabidopsis thaliana & other & not specified & control treatment, age: 7 days                     & WT Col-0 & NA & NA\\\\\n",
       "\t ⋮ & ⋮ & ⋮ & ⋮ & ⋮ & ⋮ & ⋮ & ⋮ & ⋮ & ⋮ & ⋮ & ⋮ & ⋮ & ⋮\\\\\n",
       "\t 22946265 & SRX16241286 & gs://arc-ctc-scbasecamp/2025-02-25/h5ad/Caenorhabditis\\_elegans/GeneFull\\_Ex50pAS/SRX16241286.h5ad.gz & 3496 & 10x\\_Genomics & 3\\_prime\\_gex & single\\_nucleus & Caenorhabditis elegans & other & unsure        & water treatment, synchronized using nylon mesh filter, grown for 62 hours at 25°C, washed to remo... & F1 generation  & NA & NA\\\\\n",
       "\t 22946262 & SRX16241283 & gs://arc-ctc-scbasecamp/2025-02-25/h5ad/Caenorhabditis\\_elegans/GeneFull\\_Ex50pAS/SRX16241283.h5ad.gz & 4767 & 10x\\_Genomics & 3\\_prime\\_gex & single\\_nucleus & Caenorhabditis elegans & other & not specified & 0.5\\% ethanol treatment                                                                               & not applicable & NA & NA\\\\\n",
       "\\end{tabular}\n"
      ],
      "text/markdown": [
       "\n",
       "A data.frame: 9 × 14\n",
       "\n",
       "| entrez_id &lt;int&gt; | srx_accession &lt;chr&gt; | file_path &lt;chr&gt; | obs_count &lt;int&gt; | lib_prep &lt;chr&gt; | tech_10x &lt;chr&gt; | cell_prep &lt;chr&gt; | organism &lt;chr&gt; | tissue &lt;chr&gt; | disease &lt;chr&gt; | purturbation &lt;chr&gt; | cell_line &lt;chr&gt; | czi_collection_id &lt;lgl&gt; | czi_collection_name &lt;lgl&gt; |\n",
       "|---|---|---|---|---|---|---|---|---|---|---|---|---|---|\n",
       "| 24123125 | SRX17302366 | gs://arc-ctc-scbasecamp/2025-02-25/h5ad/Arabidopsis_thaliana/GeneFull_Ex50pAS/SRX17302366.h5ad.gz |  9036 | 10x_Genomics | 3_prime_gex | single_cell | Arabidopsis thaliana | other | not specified | BL (Brassinolide), 100nM, 0.5 hours post-treatment | WT Col-0 | NA | NA |\n",
       "| 24123140 | SRX17302381 | gs://arc-ctc-scbasecamp/2025-02-25/h5ad/Arabidopsis_thaliana/GeneFull_Ex50pAS/SRX17302381.h5ad.gz | 14317 | 10x_Genomics | 3_prime_gex | single_cell | Arabidopsis thaliana | other | not specified | control treatment, age: 7 days                     | WT Col-0 | NA | NA |\n",
       "| ⋮ | ⋮ | ⋮ | ⋮ | ⋮ | ⋮ | ⋮ | ⋮ | ⋮ | ⋮ | ⋮ | ⋮ | ⋮ | ⋮ |\n",
       "| 22946265 | SRX16241286 | gs://arc-ctc-scbasecamp/2025-02-25/h5ad/Caenorhabditis_elegans/GeneFull_Ex50pAS/SRX16241286.h5ad.gz | 3496 | 10x_Genomics | 3_prime_gex | single_nucleus | Caenorhabditis elegans | other | unsure        | water treatment, synchronized using nylon mesh filter, grown for 62 hours at 25°C, washed to remo... | F1 generation  | NA | NA |\n",
       "| 22946262 | SRX16241283 | gs://arc-ctc-scbasecamp/2025-02-25/h5ad/Caenorhabditis_elegans/GeneFull_Ex50pAS/SRX16241283.h5ad.gz | 4767 | 10x_Genomics | 3_prime_gex | single_nucleus | Caenorhabditis elegans | other | not specified | 0.5% ethanol treatment                                                                               | not applicable | NA | NA |\n",
       "\n"
      ],
      "text/plain": [
       "  entrez_id srx_accession\n",
       "1 24123125  SRX17302366  \n",
       "2 24123140  SRX17302381  \n",
       "⋮ ⋮         ⋮            \n",
       "8 22946265  SRX16241286  \n",
       "9 22946262  SRX16241283  \n",
       "  file_path                                                                                          \n",
       "1 gs://arc-ctc-scbasecamp/2025-02-25/h5ad/Arabidopsis_thaliana/GeneFull_Ex50pAS/SRX17302366.h5ad.gz  \n",
       "2 gs://arc-ctc-scbasecamp/2025-02-25/h5ad/Arabidopsis_thaliana/GeneFull_Ex50pAS/SRX17302381.h5ad.gz  \n",
       "⋮ ⋮                                                                                                  \n",
       "8 gs://arc-ctc-scbasecamp/2025-02-25/h5ad/Caenorhabditis_elegans/GeneFull_Ex50pAS/SRX16241286.h5ad.gz\n",
       "9 gs://arc-ctc-scbasecamp/2025-02-25/h5ad/Caenorhabditis_elegans/GeneFull_Ex50pAS/SRX16241283.h5ad.gz\n",
       "  obs_count lib_prep     tech_10x    cell_prep      organism              \n",
       "1  9036     10x_Genomics 3_prime_gex single_cell    Arabidopsis thaliana  \n",
       "2 14317     10x_Genomics 3_prime_gex single_cell    Arabidopsis thaliana  \n",
       "⋮ ⋮         ⋮            ⋮           ⋮              ⋮                     \n",
       "8 3496      10x_Genomics 3_prime_gex single_nucleus Caenorhabditis elegans\n",
       "9 4767      10x_Genomics 3_prime_gex single_nucleus Caenorhabditis elegans\n",
       "  tissue disease      \n",
       "1 other  not specified\n",
       "2 other  not specified\n",
       "⋮ ⋮      ⋮            \n",
       "8 other  unsure       \n",
       "9 other  not specified\n",
       "  purturbation                                                                                        \n",
       "1 BL (Brassinolide), 100nM, 0.5 hours post-treatment                                                  \n",
       "2 control treatment, age: 7 days                                                                      \n",
       "⋮ ⋮                                                                                                   \n",
       "8 water treatment, synchronized using nylon mesh filter, grown for 62 hours at 25°C, washed to remo...\n",
       "9 0.5% ethanol treatment                                                                              \n",
       "  cell_line      czi_collection_id czi_collection_name\n",
       "1 WT Col-0       NA                NA                 \n",
       "2 WT Col-0       NA                NA                 \n",
       "⋮ ⋮              ⋮                 ⋮                  \n",
       "8 F1 generation  NA                NA                 \n",
       "9 not applicable NA                NA                 "
      ]
     },
     "metadata": {},
     "output_type": "display_data"
    }
   ],
   "source": [
    "# function to read parquet files\n",
    "read_data = function(file, n = 3){\n",
    "  file = paste0(\"gs://\", file)\n",
    "  open_dataset(file, format = \"parquet\") %>%\n",
    "    head(n) %>% collect() %>% as.data.frame() \n",
    "}\n",
    "\n",
    "# read the metadata files\n",
    "sample_metadata = sample_pq_files_f %>%\n",
    "  pull(file_path) %>%\n",
    "  head(n=3) %>%\n",
    "  lapply(read_data) %>%\n",
    "  bind_rows()\n",
    "sample_metadata"
   ]
  },
  {
   "cell_type": "code",
   "execution_count": null,
   "metadata": {
    "vscode": {
     "languageId": "r"
    }
   },
   "outputs": [],
   "source": []
  }
 ],
 "metadata": {
  "kernelspec": {
   "display_name": "R",
   "language": "R",
   "name": "ir"
  },
  "language_info": {
   "codemirror_mode": "r",
   "file_extension": ".r",
   "mimetype": "text/x-r-source",
   "name": "R",
   "pygments_lexer": "r",
   "version": "4.2.3"
  }
 },
 "nbformat": 4,
 "nbformat_minor": 2
}
