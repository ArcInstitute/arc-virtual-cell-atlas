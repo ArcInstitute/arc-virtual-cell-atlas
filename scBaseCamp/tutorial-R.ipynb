{
 "cells": [
  {
   "cell_type": "markdown",
   "metadata": {},
   "source": [
    "# Summary\n",
    "\n",
    "* This is a tutorial on using R (& Python via [Reticulate](https://rstudio.github.io/reticulate/)) \n",
    "  for accessing the scBaseCamp dataset hosted by the Arc Institute.\n",
    "* The data can be streamed or downloaded locally.\n",
    "  * For small jobs (e.g., summarizing the some metadata), streaming is recommended.\n",
    "  * For large jobs (e.g., training a model), downloading is recommended.\n",
    "* See the [README](README.md#metadata) for a description of the obs metadata.\n",
    "\n",
    "## IMPORTANT NOTICE\n",
    "\n",
    "> We are converting file extensions from `parquet.gz` and `h5ad.gz` to `parquet` and `h5ad`, respectively. The `*.gz` files will be **deleted on Friday, Feb 26 2025 at 5:00 PM PST.**\n",
    "You can copy just the `parquet` and `h5ad`, files via: `rsync`:\n",
    "\n",
    "```bash\n",
    "gsutil -m rsync -r -x \"^(?\\!.*\\.parquet$)\" \"gs://arc-ctc-scbasecamp/2025-02-25/metadata\"\n",
    "```\n",
    "\n",
    "```bash\n",
    "gsutil -m rsync -r -x \"^(?\\!.*\\.h5ad$)\" \"gs://arc-ctc-scbasecamp/2025-02-25/h5ad\"\n",
    "```\n",
    "\n",
    "**Sorry for the inconvience!**\n"
   ]
  },
  {
   "cell_type": "markdown",
   "metadata": {},
   "source": [
    "# Setup"
   ]
  },
  {
   "cell_type": "markdown",
   "metadata": {},
   "source": [
    "### Installation\n",
    "\n",
    "If needed, install the necessary dependencies.\n",
    "\n",
    "You can use the [conda environment](../conda_envs/R.yml) provided in this git repository."
   ]
  },
  {
   "cell_type": "markdown",
   "metadata": {},
   "source": [
    "# Load libraries"
   ]
  },
  {
   "cell_type": "code",
   "execution_count": 1,
   "metadata": {
    "vscode": {
     "languageId": "r"
    }
   },
   "outputs": [
    {
     "name": "stderr",
     "output_type": "stream",
     "text": [
      "\n",
      "Attaching package: ‘dplyr’\n",
      "\n",
      "\n",
      "The following objects are masked from ‘package:stats’:\n",
      "\n",
      "    filter, lag\n",
      "\n",
      "\n",
      "The following objects are masked from ‘package:base’:\n",
      "\n",
      "    intersect, setdiff, setequal, union\n",
      "\n",
      "\n",
      "\n",
      "Attaching package: ‘arrow’\n",
      "\n",
      "\n",
      "The following object is masked from ‘package:utils’:\n",
      "\n",
      "    timestamp\n",
      "\n",
      "\n"
     ]
    }
   ],
   "source": [
    "# Load required libraries\n",
    "library(dplyr)\n",
    "library(arrow)\n",
    "library(reticulate)\n",
    "library(googleCloudStorageR)\n",
    "os = import(\"os\")\n",
    "pd = import(\"pandas\")\n",
    "ad = import(\"anndata\")\n",
    "gcsfs = import(\"gcsfs\")"
   ]
  },
  {
   "cell_type": "code",
   "execution_count": 2,
   "metadata": {
    "vscode": {
     "languageId": "r"
    }
   },
   "outputs": [],
   "source": [
    "# set max print rows\n",
    "options(repr.matrix.max.rows=4)"
   ]
  },
  {
   "cell_type": "markdown",
   "metadata": {},
   "source": [
    "# Data location"
   ]
  },
  {
   "cell_type": "code",
   "execution_count": 3,
   "metadata": {
    "vscode": {
     "languageId": "r"
    }
   },
   "outputs": [],
   "source": [
    "# GCS bucket path\n",
    "gcs_base_path = \"gs://arc-ctc-scbasecamp/2025-02-25\""
   ]
  },
  {
   "cell_type": "code",
   "execution_count": 4,
   "metadata": {
    "vscode": {
     "languageId": "r"
    }
   },
   "outputs": [],
   "source": [
    "# which STARsolo feature type to use?\n",
    "feature_type = \"GeneFull_Ex50pAS\""
   ]
  },
  {
   "cell_type": "markdown",
   "metadata": {
    "vscode": {
     "languageId": "r"
    }
   },
   "source": [
    "# List available files\n",
    "\n",
    "Let's see what we have to work with!"
   ]
  },
  {
   "cell_type": "code",
   "execution_count": 5,
   "metadata": {
    "vscode": {
     "languageId": "r"
    }
   },
   "outputs": [],
   "source": [
    "# initialize GCS file system for reading data from GCS\n",
    "fs = gcsfs$GCSFileSystem(\n",
    "    token = Sys.getenv(\"GOOGLE_APPLICATION_CREDENTIALS\")\n",
    ")"
   ]
  },
  {
   "cell_type": "code",
   "execution_count": 6,
   "metadata": {
    "vscode": {
     "languageId": "r"
    }
   },
   "outputs": [],
   "source": [
    "# helper function\n",
    "get_parquet_files = function(gcs_base_path, feature_type, target = NULL, endswith = NULL) {\n",
    "  files = fs$glob(os$path$join(gcs_base_path, feature_type, \"**\"))\n",
    "  \n",
    "\n",
    "  if (!is.null(target)) {\n",
    "    files = files[sapply(files, function(f) basename(f) == target)]\n",
    "  } else if (!is.null(endswith)) {\n",
    "    files = files[sapply(files, function(f) grepl(paste0(endswith, \"$\"), f))]\n",
    "  }\n",
    "  \n",
    "  file_list = lapply(files, function(f) {\n",
    "    parts = unlist(strsplit(f, \"/\"))\n",
    "    c(parts[length(parts)-1], f)\n",
    "  })\n",
    "  \n",
    "  file_df = as.data.frame(do.call(rbind, file_list), stringsAsFactors = FALSE)\n",
    "  colnames(file_df) = c(\"organism\", \"file_path\")\n",
    "  \n",
    "  return(file_df)\n",
    "}"
   ]
  },
  {
   "cell_type": "code",
   "execution_count": 7,
   "metadata": {
    "vscode": {
     "languageId": "r"
    }
   },
   "outputs": [],
   "source": [
    "# function to read parquet files from GCS\n",
    "read_data = function(file, n = NULL){\n",
    "  if(!startsWith(file, \"gs://\")){\n",
    "    file = paste0(\"gs://\", file)\n",
    "  }\n",
    "  dataset = open_dataset(file, format = \"parquet\")\n",
    "  if (is.null(n)) {\n",
    "    dataset %>% collect() %>% as.data.frame()\n",
    "  } else {\n",
    "    dataset %>% head(n) %>% collect() %>% as.data.frame()\n",
    "  }\n",
    "}"
   ]
  },
  {
   "cell_type": "markdown",
   "metadata": {
    "vscode": {
     "languageId": "r"
    }
   },
   "source": [
    "## Parquet files\n",
    "\n",
    "* Contain the obs metadata\n",
    "* Similar to CSV files, but more efficient for large datasets"
   ]
  },
  {
   "cell_type": "code",
   "execution_count": 8,
   "metadata": {
    "vscode": {
     "languageId": "r"
    }
   },
   "outputs": [
    {
     "data": {
      "text/html": [
       "'gs://arc-ctc-scbasecamp/2025-02-25/metadata'"
      ],
      "text/latex": [
       "'gs://arc-ctc-scbasecamp/2025-02-25/metadata'"
      ],
      "text/markdown": [
       "'gs://arc-ctc-scbasecamp/2025-02-25/metadata'"
      ],
      "text/plain": [
       "[1] \"gs://arc-ctc-scbasecamp/2025-02-25/metadata\""
      ]
     },
     "metadata": {},
     "output_type": "display_data"
    }
   ],
   "source": [
    "# set the path to the metadata files\n",
    "gcs_path = file.path(gcs_base_path, \"metadata\")\n",
    "gcs_path"
   ]
  },
  {
   "cell_type": "code",
   "execution_count": 9,
   "metadata": {
    "vscode": {
     "languageId": "r"
    }
   },
   "outputs": [
    {
     "data": {
      "text/html": [
       "<table class=\"dataframe\">\n",
       "<caption>A data.frame: 21 × 2</caption>\n",
       "<thead>\n",
       "\t<tr><th scope=col>organism</th><th scope=col>file_path</th></tr>\n",
       "\t<tr><th scope=col>&lt;chr&gt;</th><th scope=col>&lt;chr&gt;</th></tr>\n",
       "</thead>\n",
       "<tbody>\n",
       "\t<tr><td>Arabidopsis_thaliana</td><td>arc-ctc-scbasecamp/2025-02-25/metadata/GeneFull_Ex50pAS/Arabidopsis_thaliana/sample_metadata.parquet.gz</td></tr>\n",
       "\t<tr><td>Bos_taurus          </td><td>arc-ctc-scbasecamp/2025-02-25/metadata/GeneFull_Ex50pAS/Bos_taurus/sample_metadata.parquet.gz          </td></tr>\n",
       "\t<tr><td>⋮</td><td>⋮</td></tr>\n",
       "\t<tr><td>Sus_scrofa</td><td>arc-ctc-scbasecamp/2025-02-25/metadata/GeneFull_Ex50pAS/Sus_scrofa/sample_metadata.parquet.gz</td></tr>\n",
       "\t<tr><td>Zea_mays  </td><td>arc-ctc-scbasecamp/2025-02-25/metadata/GeneFull_Ex50pAS/Zea_mays/sample_metadata.parquet.gz  </td></tr>\n",
       "</tbody>\n",
       "</table>\n"
      ],
      "text/latex": [
       "A data.frame: 21 × 2\n",
       "\\begin{tabular}{ll}\n",
       " organism & file\\_path\\\\\n",
       " <chr> & <chr>\\\\\n",
       "\\hline\n",
       "\t Arabidopsis\\_thaliana & arc-ctc-scbasecamp/2025-02-25/metadata/GeneFull\\_Ex50pAS/Arabidopsis\\_thaliana/sample\\_metadata.parquet.gz\\\\\n",
       "\t Bos\\_taurus           & arc-ctc-scbasecamp/2025-02-25/metadata/GeneFull\\_Ex50pAS/Bos\\_taurus/sample\\_metadata.parquet.gz          \\\\\n",
       "\t ⋮ & ⋮\\\\\n",
       "\t Sus\\_scrofa & arc-ctc-scbasecamp/2025-02-25/metadata/GeneFull\\_Ex50pAS/Sus\\_scrofa/sample\\_metadata.parquet.gz\\\\\n",
       "\t Zea\\_mays   & arc-ctc-scbasecamp/2025-02-25/metadata/GeneFull\\_Ex50pAS/Zea\\_mays/sample\\_metadata.parquet.gz  \\\\\n",
       "\\end{tabular}\n"
      ],
      "text/markdown": [
       "\n",
       "A data.frame: 21 × 2\n",
       "\n",
       "| organism &lt;chr&gt; | file_path &lt;chr&gt; |\n",
       "|---|---|\n",
       "| Arabidopsis_thaliana | arc-ctc-scbasecamp/2025-02-25/metadata/GeneFull_Ex50pAS/Arabidopsis_thaliana/sample_metadata.parquet.gz |\n",
       "| Bos_taurus           | arc-ctc-scbasecamp/2025-02-25/metadata/GeneFull_Ex50pAS/Bos_taurus/sample_metadata.parquet.gz           |\n",
       "| ⋮ | ⋮ |\n",
       "| Sus_scrofa | arc-ctc-scbasecamp/2025-02-25/metadata/GeneFull_Ex50pAS/Sus_scrofa/sample_metadata.parquet.gz |\n",
       "| Zea_mays   | arc-ctc-scbasecamp/2025-02-25/metadata/GeneFull_Ex50pAS/Zea_mays/sample_metadata.parquet.gz   |\n",
       "\n"
      ],
      "text/plain": [
       "   organism            \n",
       "1  Arabidopsis_thaliana\n",
       "2  Bos_taurus          \n",
       "⋮  ⋮                   \n",
       "20 Sus_scrofa          \n",
       "21 Zea_mays            \n",
       "   file_path                                                                                              \n",
       "1  arc-ctc-scbasecamp/2025-02-25/metadata/GeneFull_Ex50pAS/Arabidopsis_thaliana/sample_metadata.parquet.gz\n",
       "2  arc-ctc-scbasecamp/2025-02-25/metadata/GeneFull_Ex50pAS/Bos_taurus/sample_metadata.parquet.gz          \n",
       "⋮  ⋮                                                                                                      \n",
       "20 arc-ctc-scbasecamp/2025-02-25/metadata/GeneFull_Ex50pAS/Sus_scrofa/sample_metadata.parquet.gz          \n",
       "21 arc-ctc-scbasecamp/2025-02-25/metadata/GeneFull_Ex50pAS/Zea_mays/sample_metadata.parquet.gz            "
      ]
     },
     "metadata": {},
     "output_type": "display_data"
    }
   ],
   "source": [
    "# list files\n",
    "sample_pq_files = get_parquet_files(gcs_path, feature_type, \"sample_metadata.parquet.gz\")\n",
    "sample_pq_files "
   ]
  },
  {
   "cell_type": "markdown",
   "metadata": {},
   "source": [
    "### Per-obs metadata"
   ]
  },
  {
   "cell_type": "code",
   "execution_count": 10,
   "metadata": {
    "vscode": {
     "languageId": "r"
    }
   },
   "outputs": [
    {
     "data": {
      "text/html": [
       "<table class=\"dataframe\">\n",
       "<caption>A data.frame: 21 × 2</caption>\n",
       "<thead>\n",
       "\t<tr><th scope=col>organism</th><th scope=col>file_path</th></tr>\n",
       "\t<tr><th scope=col>&lt;chr&gt;</th><th scope=col>&lt;chr&gt;</th></tr>\n",
       "</thead>\n",
       "<tbody>\n",
       "\t<tr><td>Arabidopsis_thaliana</td><td>arc-ctc-scbasecamp/2025-02-25/metadata/GeneFull_Ex50pAS/Arabidopsis_thaliana/obs_metadata.parquet.gz</td></tr>\n",
       "\t<tr><td>Bos_taurus          </td><td>arc-ctc-scbasecamp/2025-02-25/metadata/GeneFull_Ex50pAS/Bos_taurus/obs_metadata.parquet.gz          </td></tr>\n",
       "\t<tr><td>⋮</td><td>⋮</td></tr>\n",
       "\t<tr><td>Sus_scrofa</td><td>arc-ctc-scbasecamp/2025-02-25/metadata/GeneFull_Ex50pAS/Sus_scrofa/obs_metadata.parquet.gz</td></tr>\n",
       "\t<tr><td>Zea_mays  </td><td>arc-ctc-scbasecamp/2025-02-25/metadata/GeneFull_Ex50pAS/Zea_mays/obs_metadata.parquet.gz  </td></tr>\n",
       "</tbody>\n",
       "</table>\n"
      ],
      "text/latex": [
       "A data.frame: 21 × 2\n",
       "\\begin{tabular}{ll}\n",
       " organism & file\\_path\\\\\n",
       " <chr> & <chr>\\\\\n",
       "\\hline\n",
       "\t Arabidopsis\\_thaliana & arc-ctc-scbasecamp/2025-02-25/metadata/GeneFull\\_Ex50pAS/Arabidopsis\\_thaliana/obs\\_metadata.parquet.gz\\\\\n",
       "\t Bos\\_taurus           & arc-ctc-scbasecamp/2025-02-25/metadata/GeneFull\\_Ex50pAS/Bos\\_taurus/obs\\_metadata.parquet.gz          \\\\\n",
       "\t ⋮ & ⋮\\\\\n",
       "\t Sus\\_scrofa & arc-ctc-scbasecamp/2025-02-25/metadata/GeneFull\\_Ex50pAS/Sus\\_scrofa/obs\\_metadata.parquet.gz\\\\\n",
       "\t Zea\\_mays   & arc-ctc-scbasecamp/2025-02-25/metadata/GeneFull\\_Ex50pAS/Zea\\_mays/obs\\_metadata.parquet.gz  \\\\\n",
       "\\end{tabular}\n"
      ],
      "text/markdown": [
       "\n",
       "A data.frame: 21 × 2\n",
       "\n",
       "| organism &lt;chr&gt; | file_path &lt;chr&gt; |\n",
       "|---|---|\n",
       "| Arabidopsis_thaliana | arc-ctc-scbasecamp/2025-02-25/metadata/GeneFull_Ex50pAS/Arabidopsis_thaliana/obs_metadata.parquet.gz |\n",
       "| Bos_taurus           | arc-ctc-scbasecamp/2025-02-25/metadata/GeneFull_Ex50pAS/Bos_taurus/obs_metadata.parquet.gz           |\n",
       "| ⋮ | ⋮ |\n",
       "| Sus_scrofa | arc-ctc-scbasecamp/2025-02-25/metadata/GeneFull_Ex50pAS/Sus_scrofa/obs_metadata.parquet.gz |\n",
       "| Zea_mays   | arc-ctc-scbasecamp/2025-02-25/metadata/GeneFull_Ex50pAS/Zea_mays/obs_metadata.parquet.gz   |\n",
       "\n"
      ],
      "text/plain": [
       "   organism            \n",
       "1  Arabidopsis_thaliana\n",
       "2  Bos_taurus          \n",
       "⋮  ⋮                   \n",
       "20 Sus_scrofa          \n",
       "21 Zea_mays            \n",
       "   file_path                                                                                           \n",
       "1  arc-ctc-scbasecamp/2025-02-25/metadata/GeneFull_Ex50pAS/Arabidopsis_thaliana/obs_metadata.parquet.gz\n",
       "2  arc-ctc-scbasecamp/2025-02-25/metadata/GeneFull_Ex50pAS/Bos_taurus/obs_metadata.parquet.gz          \n",
       "⋮  ⋮                                                                                                   \n",
       "20 arc-ctc-scbasecamp/2025-02-25/metadata/GeneFull_Ex50pAS/Sus_scrofa/obs_metadata.parquet.gz          \n",
       "21 arc-ctc-scbasecamp/2025-02-25/metadata/GeneFull_Ex50pAS/Zea_mays/obs_metadata.parquet.gz            "
      ]
     },
     "metadata": {},
     "output_type": "display_data"
    }
   ],
   "source": [
    "# list files\n",
    "obs_pq_files = get_parquet_files(gcs_path, feature_type, \"obs_metadata.parquet.gz\")\n",
    "obs_pq_files "
   ]
  },
  {
   "cell_type": "markdown",
   "metadata": {},
   "source": [
    "# h5ad files"
   ]
  },
  {
   "cell_type": "code",
   "execution_count": 11,
   "metadata": {
    "vscode": {
     "languageId": "r"
    }
   },
   "outputs": [
    {
     "data": {
      "text/html": [
       "'gs://arc-ctc-scbasecamp/2025-02-25/h5ad'"
      ],
      "text/latex": [
       "'gs://arc-ctc-scbasecamp/2025-02-25/h5ad'"
      ],
      "text/markdown": [
       "'gs://arc-ctc-scbasecamp/2025-02-25/h5ad'"
      ],
      "text/plain": [
       "[1] \"gs://arc-ctc-scbasecamp/2025-02-25/h5ad\""
      ]
     },
     "metadata": {},
     "output_type": "display_data"
    }
   ],
   "source": [
    "gcs_path = file.path(gcs_base_path, \"h5ad\")\n",
    "gcs_path"
   ]
  },
  {
   "cell_type": "code",
   "execution_count": 12,
   "metadata": {
    "vscode": {
     "languageId": "r"
    }
   },
   "outputs": [
    {
     "data": {
      "text/html": [
       "<table class=\"dataframe\">\n",
       "<caption>A data.frame: 30387 × 2</caption>\n",
       "<thead>\n",
       "\t<tr><th scope=col>organism</th><th scope=col>file_path</th></tr>\n",
       "\t<tr><th scope=col>&lt;chr&gt;</th><th scope=col>&lt;chr&gt;</th></tr>\n",
       "</thead>\n",
       "<tbody>\n",
       "\t<tr><td>Arabidopsis_thaliana</td><td>arc-ctc-scbasecamp/2025-02-25/h5ad/GeneFull_Ex50pAS/Arabidopsis_thaliana/SRX15202187.h5ad.gz</td></tr>\n",
       "\t<tr><td>Arabidopsis_thaliana</td><td>arc-ctc-scbasecamp/2025-02-25/h5ad/GeneFull_Ex50pAS/Arabidopsis_thaliana/SRX15202188.h5ad.gz</td></tr>\n",
       "\t<tr><td>⋮</td><td>⋮</td></tr>\n",
       "\t<tr><td>Zea_mays</td><td>arc-ctc-scbasecamp/2025-02-25/h5ad/GeneFull_Ex50pAS/Zea_mays/SRX8487984.h5ad.gz</td></tr>\n",
       "\t<tr><td>Zea_mays</td><td>arc-ctc-scbasecamp/2025-02-25/h5ad/GeneFull_Ex50pAS/Zea_mays/SRX8781690.h5ad.gz</td></tr>\n",
       "</tbody>\n",
       "</table>\n"
      ],
      "text/latex": [
       "A data.frame: 30387 × 2\n",
       "\\begin{tabular}{ll}\n",
       " organism & file\\_path\\\\\n",
       " <chr> & <chr>\\\\\n",
       "\\hline\n",
       "\t Arabidopsis\\_thaliana & arc-ctc-scbasecamp/2025-02-25/h5ad/GeneFull\\_Ex50pAS/Arabidopsis\\_thaliana/SRX15202187.h5ad.gz\\\\\n",
       "\t Arabidopsis\\_thaliana & arc-ctc-scbasecamp/2025-02-25/h5ad/GeneFull\\_Ex50pAS/Arabidopsis\\_thaliana/SRX15202188.h5ad.gz\\\\\n",
       "\t ⋮ & ⋮\\\\\n",
       "\t Zea\\_mays & arc-ctc-scbasecamp/2025-02-25/h5ad/GeneFull\\_Ex50pAS/Zea\\_mays/SRX8487984.h5ad.gz\\\\\n",
       "\t Zea\\_mays & arc-ctc-scbasecamp/2025-02-25/h5ad/GeneFull\\_Ex50pAS/Zea\\_mays/SRX8781690.h5ad.gz\\\\\n",
       "\\end{tabular}\n"
      ],
      "text/markdown": [
       "\n",
       "A data.frame: 30387 × 2\n",
       "\n",
       "| organism &lt;chr&gt; | file_path &lt;chr&gt; |\n",
       "|---|---|\n",
       "| Arabidopsis_thaliana | arc-ctc-scbasecamp/2025-02-25/h5ad/GeneFull_Ex50pAS/Arabidopsis_thaliana/SRX15202187.h5ad.gz |\n",
       "| Arabidopsis_thaliana | arc-ctc-scbasecamp/2025-02-25/h5ad/GeneFull_Ex50pAS/Arabidopsis_thaliana/SRX15202188.h5ad.gz |\n",
       "| ⋮ | ⋮ |\n",
       "| Zea_mays | arc-ctc-scbasecamp/2025-02-25/h5ad/GeneFull_Ex50pAS/Zea_mays/SRX8487984.h5ad.gz |\n",
       "| Zea_mays | arc-ctc-scbasecamp/2025-02-25/h5ad/GeneFull_Ex50pAS/Zea_mays/SRX8781690.h5ad.gz |\n",
       "\n"
      ],
      "text/plain": [
       "      organism            \n",
       "1     Arabidopsis_thaliana\n",
       "2     Arabidopsis_thaliana\n",
       "⋮     ⋮                   \n",
       "30386 Zea_mays            \n",
       "30387 Zea_mays            \n",
       "      file_path                                                                                   \n",
       "1     arc-ctc-scbasecamp/2025-02-25/h5ad/GeneFull_Ex50pAS/Arabidopsis_thaliana/SRX15202187.h5ad.gz\n",
       "2     arc-ctc-scbasecamp/2025-02-25/h5ad/GeneFull_Ex50pAS/Arabidopsis_thaliana/SRX15202188.h5ad.gz\n",
       "⋮     ⋮                                                                                           \n",
       "30386 arc-ctc-scbasecamp/2025-02-25/h5ad/GeneFull_Ex50pAS/Zea_mays/SRX8487984.h5ad.gz             \n",
       "30387 arc-ctc-scbasecamp/2025-02-25/h5ad/GeneFull_Ex50pAS/Zea_mays/SRX8781690.h5ad.gz             "
      ]
     },
     "metadata": {},
     "output_type": "display_data"
    }
   ],
   "source": [
    "# list files\n",
    "h5ad_files = get_parquet_files(gcs_path, feature_type, endswith=\".h5ad.gz\")\n",
    "h5ad_files "
   ]
  },
  {
   "cell_type": "markdown",
   "metadata": {},
   "source": [
    "# Expore the observation metadata\n",
    "\n",
    "* `obs` ≃ cell"
   ]
  },
  {
   "cell_type": "markdown",
   "metadata": {
    "vscode": {
     "languageId": "r"
    }
   },
   "source": [
    "### Per-sample\n",
    "\n",
    "* Useful for quickly summarizing the per-sample metadata (a small file versus the entire obs metadata file; see below).\n",
    "* For this tutorial, we will just read in a subset"
   ]
  },
  {
   "cell_type": "code",
   "execution_count": 13,
   "metadata": {
    "vscode": {
     "languageId": "r"
    }
   },
   "outputs": [
    {
     "data": {
      "text/html": [
       "<table class=\"dataframe\">\n",
       "<caption>A data.frame: 20 × 14</caption>\n",
       "<thead>\n",
       "\t<tr><th scope=col>entrez_id</th><th scope=col>srx_accession</th><th scope=col>file_path</th><th scope=col>obs_count</th><th scope=col>lib_prep</th><th scope=col>tech_10x</th><th scope=col>cell_prep</th><th scope=col>organism</th><th scope=col>tissue</th><th scope=col>disease</th><th scope=col>purturbation</th><th scope=col>cell_line</th><th scope=col>czi_collection_id</th><th scope=col>czi_collection_name</th></tr>\n",
       "\t<tr><th scope=col>&lt;int&gt;</th><th scope=col>&lt;chr&gt;</th><th scope=col>&lt;chr&gt;</th><th scope=col>&lt;int&gt;</th><th scope=col>&lt;chr&gt;</th><th scope=col>&lt;chr&gt;</th><th scope=col>&lt;chr&gt;</th><th scope=col>&lt;chr&gt;</th><th scope=col>&lt;chr&gt;</th><th scope=col>&lt;chr&gt;</th><th scope=col>&lt;chr&gt;</th><th scope=col>&lt;chr&gt;</th><th scope=col>&lt;lgl&gt;</th><th scope=col>&lt;lgl&gt;</th></tr>\n",
       "</thead>\n",
       "<tbody>\n",
       "\t<tr><td>24123125</td><td>SRX17302366</td><td>gs://arc-ctc-scbasecamp/2025-02-25/h5ad/GeneFull_Ex50pAS/Arabidopsis_thaliana/SRX17302366.h5ad.gz</td><td> 9036</td><td>10x_Genomics</td><td>3_prime_gex</td><td>single_cell</td><td>Arabidopsis thaliana</td><td>other</td><td>not specified</td><td>BL (Brassinolide), 100nM, 0.5 hours post-treatment</td><td>WT Col-0</td><td>NA</td><td>NA</td></tr>\n",
       "\t<tr><td>24123140</td><td>SRX17302381</td><td>gs://arc-ctc-scbasecamp/2025-02-25/h5ad/GeneFull_Ex50pAS/Arabidopsis_thaliana/SRX17302381.h5ad.gz</td><td>14317</td><td>10x_Genomics</td><td>3_prime_gex</td><td>single_cell</td><td>Arabidopsis thaliana</td><td>other</td><td>not specified</td><td>control treatment, age: 7 days                    </td><td>WT Col-0</td><td>NA</td><td>NA</td></tr>\n",
       "\t<tr><td>⋮</td><td>⋮</td><td>⋮</td><td>⋮</td><td>⋮</td><td>⋮</td><td>⋮</td><td>⋮</td><td>⋮</td><td>⋮</td><td>⋮</td><td>⋮</td><td>⋮</td><td>⋮</td></tr>\n",
       "\t<tr><td>26767424</td><td>SRX19487478</td><td>gs://arc-ctc-scbasecamp/2025-02-25/h5ad/GeneFull_Ex50pAS/Bos_taurus/SRX19487478.h5ad.gz</td><td>11477</td><td>10x_Genomics</td><td>3_prime_gex</td><td>single_cell</td><td>Bos taurus</td><td>blood</td><td>not specified</td><td>2 h LPS (Lipopolysaccharide)</td><td>Peripheral blood mononuclear cells (PBMCs)</td><td>NA</td><td>NA</td></tr>\n",
       "\t<tr><td>27384248</td><td>SRX19992927</td><td>gs://arc-ctc-scbasecamp/2025-02-25/h5ad/GeneFull_Ex50pAS/Bos_taurus/SRX19992927.h5ad.gz</td><td> 5851</td><td>10x_Genomics</td><td>3_prime_gex</td><td>single_cell</td><td>Bos taurus</td><td>milk </td><td>Not specified</td><td>Not specified               </td><td>MiDC (Milk-derived adherent cells)        </td><td>NA</td><td>NA</td></tr>\n",
       "</tbody>\n",
       "</table>\n"
      ],
      "text/latex": [
       "A data.frame: 20 × 14\n",
       "\\begin{tabular}{llllllllllllll}\n",
       " entrez\\_id & srx\\_accession & file\\_path & obs\\_count & lib\\_prep & tech\\_10x & cell\\_prep & organism & tissue & disease & purturbation & cell\\_line & czi\\_collection\\_id & czi\\_collection\\_name\\\\\n",
       " <int> & <chr> & <chr> & <int> & <chr> & <chr> & <chr> & <chr> & <chr> & <chr> & <chr> & <chr> & <lgl> & <lgl>\\\\\n",
       "\\hline\n",
       "\t 24123125 & SRX17302366 & gs://arc-ctc-scbasecamp/2025-02-25/h5ad/GeneFull\\_Ex50pAS/Arabidopsis\\_thaliana/SRX17302366.h5ad.gz &  9036 & 10x\\_Genomics & 3\\_prime\\_gex & single\\_cell & Arabidopsis thaliana & other & not specified & BL (Brassinolide), 100nM, 0.5 hours post-treatment & WT Col-0 & NA & NA\\\\\n",
       "\t 24123140 & SRX17302381 & gs://arc-ctc-scbasecamp/2025-02-25/h5ad/GeneFull\\_Ex50pAS/Arabidopsis\\_thaliana/SRX17302381.h5ad.gz & 14317 & 10x\\_Genomics & 3\\_prime\\_gex & single\\_cell & Arabidopsis thaliana & other & not specified & control treatment, age: 7 days                     & WT Col-0 & NA & NA\\\\\n",
       "\t ⋮ & ⋮ & ⋮ & ⋮ & ⋮ & ⋮ & ⋮ & ⋮ & ⋮ & ⋮ & ⋮ & ⋮ & ⋮ & ⋮\\\\\n",
       "\t 26767424 & SRX19487478 & gs://arc-ctc-scbasecamp/2025-02-25/h5ad/GeneFull\\_Ex50pAS/Bos\\_taurus/SRX19487478.h5ad.gz & 11477 & 10x\\_Genomics & 3\\_prime\\_gex & single\\_cell & Bos taurus & blood & not specified & 2 h LPS (Lipopolysaccharide) & Peripheral blood mononuclear cells (PBMCs) & NA & NA\\\\\n",
       "\t 27384248 & SRX19992927 & gs://arc-ctc-scbasecamp/2025-02-25/h5ad/GeneFull\\_Ex50pAS/Bos\\_taurus/SRX19992927.h5ad.gz &  5851 & 10x\\_Genomics & 3\\_prime\\_gex & single\\_cell & Bos taurus & milk  & Not specified & Not specified                & MiDC (Milk-derived adherent cells)         & NA & NA\\\\\n",
       "\\end{tabular}\n"
      ],
      "text/markdown": [
       "\n",
       "A data.frame: 20 × 14\n",
       "\n",
       "| entrez_id &lt;int&gt; | srx_accession &lt;chr&gt; | file_path &lt;chr&gt; | obs_count &lt;int&gt; | lib_prep &lt;chr&gt; | tech_10x &lt;chr&gt; | cell_prep &lt;chr&gt; | organism &lt;chr&gt; | tissue &lt;chr&gt; | disease &lt;chr&gt; | purturbation &lt;chr&gt; | cell_line &lt;chr&gt; | czi_collection_id &lt;lgl&gt; | czi_collection_name &lt;lgl&gt; |\n",
       "|---|---|---|---|---|---|---|---|---|---|---|---|---|---|\n",
       "| 24123125 | SRX17302366 | gs://arc-ctc-scbasecamp/2025-02-25/h5ad/GeneFull_Ex50pAS/Arabidopsis_thaliana/SRX17302366.h5ad.gz |  9036 | 10x_Genomics | 3_prime_gex | single_cell | Arabidopsis thaliana | other | not specified | BL (Brassinolide), 100nM, 0.5 hours post-treatment | WT Col-0 | NA | NA |\n",
       "| 24123140 | SRX17302381 | gs://arc-ctc-scbasecamp/2025-02-25/h5ad/GeneFull_Ex50pAS/Arabidopsis_thaliana/SRX17302381.h5ad.gz | 14317 | 10x_Genomics | 3_prime_gex | single_cell | Arabidopsis thaliana | other | not specified | control treatment, age: 7 days                     | WT Col-0 | NA | NA |\n",
       "| ⋮ | ⋮ | ⋮ | ⋮ | ⋮ | ⋮ | ⋮ | ⋮ | ⋮ | ⋮ | ⋮ | ⋮ | ⋮ | ⋮ |\n",
       "| 26767424 | SRX19487478 | gs://arc-ctc-scbasecamp/2025-02-25/h5ad/GeneFull_Ex50pAS/Bos_taurus/SRX19487478.h5ad.gz | 11477 | 10x_Genomics | 3_prime_gex | single_cell | Bos taurus | blood | not specified | 2 h LPS (Lipopolysaccharide) | Peripheral blood mononuclear cells (PBMCs) | NA | NA |\n",
       "| 27384248 | SRX19992927 | gs://arc-ctc-scbasecamp/2025-02-25/h5ad/GeneFull_Ex50pAS/Bos_taurus/SRX19992927.h5ad.gz |  5851 | 10x_Genomics | 3_prime_gex | single_cell | Bos taurus | milk  | Not specified | Not specified                | MiDC (Milk-derived adherent cells)         | NA | NA |\n",
       "\n"
      ],
      "text/plain": [
       "   entrez_id srx_accession\n",
       "1  24123125  SRX17302366  \n",
       "2  24123140  SRX17302381  \n",
       "⋮  ⋮         ⋮            \n",
       "19 26767424  SRX19487478  \n",
       "20 27384248  SRX19992927  \n",
       "   file_path                                                                                        \n",
       "1  gs://arc-ctc-scbasecamp/2025-02-25/h5ad/GeneFull_Ex50pAS/Arabidopsis_thaliana/SRX17302366.h5ad.gz\n",
       "2  gs://arc-ctc-scbasecamp/2025-02-25/h5ad/GeneFull_Ex50pAS/Arabidopsis_thaliana/SRX17302381.h5ad.gz\n",
       "⋮  ⋮                                                                                                \n",
       "19 gs://arc-ctc-scbasecamp/2025-02-25/h5ad/GeneFull_Ex50pAS/Bos_taurus/SRX19487478.h5ad.gz          \n",
       "20 gs://arc-ctc-scbasecamp/2025-02-25/h5ad/GeneFull_Ex50pAS/Bos_taurus/SRX19992927.h5ad.gz          \n",
       "   obs_count lib_prep     tech_10x    cell_prep   organism             tissue\n",
       "1   9036     10x_Genomics 3_prime_gex single_cell Arabidopsis thaliana other \n",
       "2  14317     10x_Genomics 3_prime_gex single_cell Arabidopsis thaliana other \n",
       "⋮  ⋮         ⋮            ⋮           ⋮           ⋮                    ⋮     \n",
       "19 11477     10x_Genomics 3_prime_gex single_cell Bos taurus           blood \n",
       "20  5851     10x_Genomics 3_prime_gex single_cell Bos taurus           milk  \n",
       "   disease       purturbation                                      \n",
       "1  not specified BL (Brassinolide), 100nM, 0.5 hours post-treatment\n",
       "2  not specified control treatment, age: 7 days                    \n",
       "⋮  ⋮             ⋮                                                 \n",
       "19 not specified 2 h LPS (Lipopolysaccharide)                      \n",
       "20 Not specified Not specified                                     \n",
       "   cell_line                                  czi_collection_id\n",
       "1  WT Col-0                                   NA               \n",
       "2  WT Col-0                                   NA               \n",
       "⋮  ⋮                                          ⋮                \n",
       "19 Peripheral blood mononuclear cells (PBMCs) NA               \n",
       "20 MiDC (Milk-derived adherent cells)         NA               \n",
       "   czi_collection_name\n",
       "1  NA                 \n",
       "2  NA                 \n",
       "⋮  ⋮                  \n",
       "19 NA                 \n",
       "20 NA                 "
      ]
     },
     "metadata": {},
     "output_type": "display_data"
    }
   ],
   "source": [
    "# read the metadata files\n",
    "num_organisms = 2\n",
    "num_samples_per_organism = 10\n",
    "sample_metadata = sample_pq_files %>%\n",
    "  pull(file_path) %>%\n",
    "  head(n = num_organisms) %>%\n",
    "  lapply(read_data, n = num_samples_per_organism) %>%\n",
    "  bind_rows()\n",
    "sample_metadata"
   ]
  },
  {
   "cell_type": "code",
   "execution_count": 14,
   "metadata": {
    "vscode": {
     "languageId": "r"
    }
   },
   "outputs": [
    {
     "data": {
      "text/html": [
       "<table class=\"dataframe\">\n",
       "<caption>A data.frame: 2 × 2</caption>\n",
       "<thead>\n",
       "\t<tr><th scope=col>organism</th><th scope=col>n</th></tr>\n",
       "\t<tr><th scope=col>&lt;chr&gt;</th><th scope=col>&lt;int&gt;</th></tr>\n",
       "</thead>\n",
       "<tbody>\n",
       "\t<tr><td>Arabidopsis thaliana</td><td>10</td></tr>\n",
       "\t<tr><td>Bos taurus          </td><td>10</td></tr>\n",
       "</tbody>\n",
       "</table>\n"
      ],
      "text/latex": [
       "A data.frame: 2 × 2\n",
       "\\begin{tabular}{ll}\n",
       " organism & n\\\\\n",
       " <chr> & <int>\\\\\n",
       "\\hline\n",
       "\t Arabidopsis thaliana & 10\\\\\n",
       "\t Bos taurus           & 10\\\\\n",
       "\\end{tabular}\n"
      ],
      "text/markdown": [
       "\n",
       "A data.frame: 2 × 2\n",
       "\n",
       "| organism &lt;chr&gt; | n &lt;int&gt; |\n",
       "|---|---|\n",
       "| Arabidopsis thaliana | 10 |\n",
       "| Bos taurus           | 10 |\n",
       "\n"
      ],
      "text/plain": [
       "  organism             n \n",
       "1 Arabidopsis thaliana 10\n",
       "2 Bos taurus           10"
      ]
     },
     "metadata": {},
     "output_type": "display_data"
    }
   ],
   "source": [
    "# samples per organism\n",
    "sample_metadata %>% count(organism)"
   ]
  },
  {
   "cell_type": "code",
   "execution_count": 15,
   "metadata": {
    "vscode": {
     "languageId": "r"
    }
   },
   "outputs": [
    {
     "data": {
      "text/plain": [
       "   Min. 1st Qu.  Median    Mean 3rd Qu.    Max. \n",
       "   3496    5720    8469    9413   11420   21404 "
      ]
     },
     "metadata": {},
     "output_type": "display_data"
    }
   ],
   "source": [
    "# cell counts per sample\n",
    "sample_metadata %>% pull(obs_count) %>% summary()"
   ]
  },
  {
   "cell_type": "code",
   "execution_count": 16,
   "metadata": {
    "vscode": {
     "languageId": "r"
    }
   },
   "outputs": [
    {
     "data": {
      "text/html": [
       "<table class=\"dataframe\">\n",
       "<caption>A tibble: 2 × 6</caption>\n",
       "<thead>\n",
       "\t<tr><th scope=col>organism</th><th scope=col>min</th><th scope=col>max</th><th scope=col>mean</th><th scope=col>median</th><th scope=col>sd</th></tr>\n",
       "\t<tr><th scope=col>&lt;chr&gt;</th><th scope=col>&lt;int&gt;</th><th scope=col>&lt;int&gt;</th><th scope=col>&lt;dbl&gt;</th><th scope=col>&lt;dbl&gt;</th><th scope=col>&lt;dbl&gt;</th></tr>\n",
       "</thead>\n",
       "<tbody>\n",
       "\t<tr><td>Arabidopsis thaliana</td><td>3496</td><td>20075</td><td> 8688.0</td><td>7621.0</td><td>5306.759</td></tr>\n",
       "\t<tr><td>Bos taurus          </td><td>4120</td><td>21404</td><td>10138.8</td><td>8838.5</td><td>4923.111</td></tr>\n",
       "</tbody>\n",
       "</table>\n"
      ],
      "text/latex": [
       "A tibble: 2 × 6\n",
       "\\begin{tabular}{llllll}\n",
       " organism & min & max & mean & median & sd\\\\\n",
       " <chr> & <int> & <int> & <dbl> & <dbl> & <dbl>\\\\\n",
       "\\hline\n",
       "\t Arabidopsis thaliana & 3496 & 20075 &  8688.0 & 7621.0 & 5306.759\\\\\n",
       "\t Bos taurus           & 4120 & 21404 & 10138.8 & 8838.5 & 4923.111\\\\\n",
       "\\end{tabular}\n"
      ],
      "text/markdown": [
       "\n",
       "A tibble: 2 × 6\n",
       "\n",
       "| organism &lt;chr&gt; | min &lt;int&gt; | max &lt;int&gt; | mean &lt;dbl&gt; | median &lt;dbl&gt; | sd &lt;dbl&gt; |\n",
       "|---|---|---|---|---|---|\n",
       "| Arabidopsis thaliana | 3496 | 20075 |  8688.0 | 7621.0 | 5306.759 |\n",
       "| Bos taurus           | 4120 | 21404 | 10138.8 | 8838.5 | 4923.111 |\n",
       "\n"
      ],
      "text/plain": [
       "  organism             min  max   mean    median sd      \n",
       "1 Arabidopsis thaliana 3496 20075  8688.0 7621.0 5306.759\n",
       "2 Bos taurus           4120 21404 10138.8 8838.5 4923.111"
      ]
     },
     "metadata": {},
     "output_type": "display_data"
    }
   ],
   "source": [
    "# cell count distribution per organism\n",
    "sample_metadata %>%\n",
    "  group_by(organism) %>%\n",
    "  summarise(\n",
    "    min = min(obs_count),\n",
    "    max = max(obs_count),\n",
    "    mean = mean(obs_count),\n",
    "    median = median(obs_count),\n",
    "    sd = sd(obs_count)\n",
    "  )"
   ]
  },
  {
   "cell_type": "markdown",
   "metadata": {},
   "source": [
    "### Per-obs metadata"
   ]
  },
  {
   "cell_type": "code",
   "execution_count": 17,
   "metadata": {
    "vscode": {
     "languageId": "r"
    }
   },
   "outputs": [
    {
     "data": {
      "text/html": [
       "<table class=\"dataframe\">\n",
       "<caption>A data.frame: 2000 × 5</caption>\n",
       "<thead>\n",
       "\t<tr><th scope=col>gene_count</th><th scope=col>umi_count</th><th scope=col>SRX_accession</th><th scope=col>cell_barcode</th><th scope=col>__index_level_0__</th></tr>\n",
       "\t<tr><th scope=col>&lt;int&gt;</th><th scope=col>&lt;dbl&gt;</th><th scope=col>&lt;chr&gt;</th><th scope=col>&lt;chr&gt;</th><th scope=col>&lt;int&gt;</th></tr>\n",
       "</thead>\n",
       "<tbody>\n",
       "\t<tr><td>3504</td><td>12028</td><td>SRX15202187</td><td>AAACCCAAGACCATGG</td><td>0</td></tr>\n",
       "\t<tr><td>1610</td><td> 3183</td><td>SRX15202187</td><td>AAACCCACAGGTCTCG</td><td>1</td></tr>\n",
       "\t<tr><td>⋮</td><td>⋮</td><td>⋮</td><td>⋮</td><td>⋮</td></tr>\n",
       "\t<tr><td>3639</td><td>9688</td><td>ERX13041271</td><td>AGAGCAGAGCTCCACG</td><td>998</td></tr>\n",
       "\t<tr><td>3333</td><td>8109</td><td>ERX13041271</td><td>AGAGCAGAGGATTTAG</td><td>999</td></tr>\n",
       "</tbody>\n",
       "</table>\n"
      ],
      "text/latex": [
       "A data.frame: 2000 × 5\n",
       "\\begin{tabular}{lllll}\n",
       " gene\\_count & umi\\_count & SRX\\_accession & cell\\_barcode & \\_\\_index\\_level\\_0\\_\\_\\\\\n",
       " <int> & <dbl> & <chr> & <chr> & <int>\\\\\n",
       "\\hline\n",
       "\t 3504 & 12028 & SRX15202187 & AAACCCAAGACCATGG & 0\\\\\n",
       "\t 1610 &  3183 & SRX15202187 & AAACCCACAGGTCTCG & 1\\\\\n",
       "\t ⋮ & ⋮ & ⋮ & ⋮ & ⋮\\\\\n",
       "\t 3639 & 9688 & ERX13041271 & AGAGCAGAGCTCCACG & 998\\\\\n",
       "\t 3333 & 8109 & ERX13041271 & AGAGCAGAGGATTTAG & 999\\\\\n",
       "\\end{tabular}\n"
      ],
      "text/markdown": [
       "\n",
       "A data.frame: 2000 × 5\n",
       "\n",
       "| gene_count &lt;int&gt; | umi_count &lt;dbl&gt; | SRX_accession &lt;chr&gt; | cell_barcode &lt;chr&gt; | __index_level_0__ &lt;int&gt; |\n",
       "|---|---|---|---|---|\n",
       "| 3504 | 12028 | SRX15202187 | AAACCCAAGACCATGG | 0 |\n",
       "| 1610 |  3183 | SRX15202187 | AAACCCACAGGTCTCG | 1 |\n",
       "| ⋮ | ⋮ | ⋮ | ⋮ | ⋮ |\n",
       "| 3639 | 9688 | ERX13041271 | AGAGCAGAGCTCCACG | 998 |\n",
       "| 3333 | 8109 | ERX13041271 | AGAGCAGAGGATTTAG | 999 |\n",
       "\n"
      ],
      "text/plain": [
       "     gene_count umi_count SRX_accession cell_barcode     __index_level_0__\n",
       "1    3504       12028     SRX15202187   AAACCCAAGACCATGG 0                \n",
       "2    1610        3183     SRX15202187   AAACCCACAGGTCTCG 1                \n",
       "⋮    ⋮          ⋮         ⋮             ⋮                ⋮                \n",
       "1999 3639       9688      ERX13041271   AGAGCAGAGCTCCACG 998              \n",
       "2000 3333       8109      ERX13041271   AGAGCAGAGGATTTAG 999              "
      ]
     },
     "metadata": {},
     "output_type": "display_data"
    }
   ],
   "source": [
    "# read the metadata files\n",
    "num_organisms = 2\n",
    "num_obs_per_organism = 1000\n",
    "obs_metadata = obs_pq_files %>%\n",
    "  pull(file_path) %>%\n",
    "  head(n = num_organisms) %>%\n",
    "  lapply(read_data, n = num_obs_per_organism) %>%\n",
    "  bind_rows()\n",
    "obs_metadata"
   ]
  },
  {
   "cell_type": "code",
   "execution_count": 18,
   "metadata": {
    "vscode": {
     "languageId": "r"
    }
   },
   "outputs": [
    {
     "data": {
      "text/plain": [
       "   Min. 1st Qu.  Median    Mean 3rd Qu.    Max. \n",
       "    108    1850    3515    3407    4700   11929 "
      ]
     },
     "metadata": {},
     "output_type": "display_data"
    }
   ],
   "source": [
    "# gene count distribution\n",
    "obs_metadata %>% pull(gene_count) %>% summary()"
   ]
  },
  {
   "cell_type": "code",
   "execution_count": 19,
   "metadata": {
    "vscode": {
     "languageId": "r"
    }
   },
   "outputs": [
    {
     "data": {
      "text/plain": [
       "   Min. 1st Qu.  Median    Mean 3rd Qu.    Max. \n",
       "    504    3409    9170    9997   14204   64469 "
      ]
     },
     "metadata": {},
     "output_type": "display_data"
    }
   ],
   "source": [
    "# umi counts distribution\n",
    "obs_metadata %>% pull(umi_count) %>% summary()"
   ]
  },
  {
   "cell_type": "markdown",
   "metadata": {},
   "source": [
    "#### Obs for particular samples\n",
    "\n",
    "Let's get some obs metadata for particular samples"
   ]
  },
  {
   "cell_type": "code",
   "execution_count": 20,
   "metadata": {
    "vscode": {
     "languageId": "r"
    }
   },
   "outputs": [
    {
     "data": {
      "text/html": [
       "<table class=\"dataframe\">\n",
       "<caption>A data.frame: 20 × 14</caption>\n",
       "<thead>\n",
       "\t<tr><th scope=col>entrez_id</th><th scope=col>srx_accession</th><th scope=col>file_path</th><th scope=col>obs_count</th><th scope=col>lib_prep</th><th scope=col>tech_10x</th><th scope=col>cell_prep</th><th scope=col>organism</th><th scope=col>tissue</th><th scope=col>disease</th><th scope=col>purturbation</th><th scope=col>cell_line</th><th scope=col>czi_collection_id</th><th scope=col>czi_collection_name</th></tr>\n",
       "\t<tr><th scope=col>&lt;int&gt;</th><th scope=col>&lt;chr&gt;</th><th scope=col>&lt;chr&gt;</th><th scope=col>&lt;int&gt;</th><th scope=col>&lt;chr&gt;</th><th scope=col>&lt;chr&gt;</th><th scope=col>&lt;chr&gt;</th><th scope=col>&lt;chr&gt;</th><th scope=col>&lt;chr&gt;</th><th scope=col>&lt;chr&gt;</th><th scope=col>&lt;chr&gt;</th><th scope=col>&lt;chr&gt;</th><th scope=col>&lt;lgl&gt;</th><th scope=col>&lt;lgl&gt;</th></tr>\n",
       "</thead>\n",
       "<tbody>\n",
       "\t<tr><td>24123125</td><td>SRX17302366</td><td>gs://arc-ctc-scbasecamp/2025-02-25/h5ad/GeneFull_Ex50pAS/Arabidopsis_thaliana/SRX17302366.h5ad.gz</td><td> 9036</td><td>10x_Genomics</td><td>3_prime_gex</td><td>single_cell</td><td>Arabidopsis thaliana</td><td>other</td><td>not specified</td><td>BL (Brassinolide), 100nM, 0.5 hours post-treatment</td><td>WT Col-0</td><td>NA</td><td>NA</td></tr>\n",
       "\t<tr><td>24123140</td><td>SRX17302381</td><td>gs://arc-ctc-scbasecamp/2025-02-25/h5ad/GeneFull_Ex50pAS/Arabidopsis_thaliana/SRX17302381.h5ad.gz</td><td>14317</td><td>10x_Genomics</td><td>3_prime_gex</td><td>single_cell</td><td>Arabidopsis thaliana</td><td>other</td><td>not specified</td><td>control treatment, age: 7 days                    </td><td>WT Col-0</td><td>NA</td><td>NA</td></tr>\n",
       "\t<tr><td>⋮</td><td>⋮</td><td>⋮</td><td>⋮</td><td>⋮</td><td>⋮</td><td>⋮</td><td>⋮</td><td>⋮</td><td>⋮</td><td>⋮</td><td>⋮</td><td>⋮</td><td>⋮</td></tr>\n",
       "\t<tr><td>26767424</td><td>SRX19487478</td><td>gs://arc-ctc-scbasecamp/2025-02-25/h5ad/GeneFull_Ex50pAS/Bos_taurus/SRX19487478.h5ad.gz</td><td>11477</td><td>10x_Genomics</td><td>3_prime_gex</td><td>single_cell</td><td>Bos taurus</td><td>blood</td><td>not specified</td><td>2 h LPS (Lipopolysaccharide)</td><td>Peripheral blood mononuclear cells (PBMCs)</td><td>NA</td><td>NA</td></tr>\n",
       "\t<tr><td>27384248</td><td>SRX19992927</td><td>gs://arc-ctc-scbasecamp/2025-02-25/h5ad/GeneFull_Ex50pAS/Bos_taurus/SRX19992927.h5ad.gz</td><td> 5851</td><td>10x_Genomics</td><td>3_prime_gex</td><td>single_cell</td><td>Bos taurus</td><td>milk </td><td>Not specified</td><td>Not specified               </td><td>MiDC (Milk-derived adherent cells)        </td><td>NA</td><td>NA</td></tr>\n",
       "</tbody>\n",
       "</table>\n"
      ],
      "text/latex": [
       "A data.frame: 20 × 14\n",
       "\\begin{tabular}{llllllllllllll}\n",
       " entrez\\_id & srx\\_accession & file\\_path & obs\\_count & lib\\_prep & tech\\_10x & cell\\_prep & organism & tissue & disease & purturbation & cell\\_line & czi\\_collection\\_id & czi\\_collection\\_name\\\\\n",
       " <int> & <chr> & <chr> & <int> & <chr> & <chr> & <chr> & <chr> & <chr> & <chr> & <chr> & <chr> & <lgl> & <lgl>\\\\\n",
       "\\hline\n",
       "\t 24123125 & SRX17302366 & gs://arc-ctc-scbasecamp/2025-02-25/h5ad/GeneFull\\_Ex50pAS/Arabidopsis\\_thaliana/SRX17302366.h5ad.gz &  9036 & 10x\\_Genomics & 3\\_prime\\_gex & single\\_cell & Arabidopsis thaliana & other & not specified & BL (Brassinolide), 100nM, 0.5 hours post-treatment & WT Col-0 & NA & NA\\\\\n",
       "\t 24123140 & SRX17302381 & gs://arc-ctc-scbasecamp/2025-02-25/h5ad/GeneFull\\_Ex50pAS/Arabidopsis\\_thaliana/SRX17302381.h5ad.gz & 14317 & 10x\\_Genomics & 3\\_prime\\_gex & single\\_cell & Arabidopsis thaliana & other & not specified & control treatment, age: 7 days                     & WT Col-0 & NA & NA\\\\\n",
       "\t ⋮ & ⋮ & ⋮ & ⋮ & ⋮ & ⋮ & ⋮ & ⋮ & ⋮ & ⋮ & ⋮ & ⋮ & ⋮ & ⋮\\\\\n",
       "\t 26767424 & SRX19487478 & gs://arc-ctc-scbasecamp/2025-02-25/h5ad/GeneFull\\_Ex50pAS/Bos\\_taurus/SRX19487478.h5ad.gz & 11477 & 10x\\_Genomics & 3\\_prime\\_gex & single\\_cell & Bos taurus & blood & not specified & 2 h LPS (Lipopolysaccharide) & Peripheral blood mononuclear cells (PBMCs) & NA & NA\\\\\n",
       "\t 27384248 & SRX19992927 & gs://arc-ctc-scbasecamp/2025-02-25/h5ad/GeneFull\\_Ex50pAS/Bos\\_taurus/SRX19992927.h5ad.gz &  5851 & 10x\\_Genomics & 3\\_prime\\_gex & single\\_cell & Bos taurus & milk  & Not specified & Not specified                & MiDC (Milk-derived adherent cells)         & NA & NA\\\\\n",
       "\\end{tabular}\n"
      ],
      "text/markdown": [
       "\n",
       "A data.frame: 20 × 14\n",
       "\n",
       "| entrez_id &lt;int&gt; | srx_accession &lt;chr&gt; | file_path &lt;chr&gt; | obs_count &lt;int&gt; | lib_prep &lt;chr&gt; | tech_10x &lt;chr&gt; | cell_prep &lt;chr&gt; | organism &lt;chr&gt; | tissue &lt;chr&gt; | disease &lt;chr&gt; | purturbation &lt;chr&gt; | cell_line &lt;chr&gt; | czi_collection_id &lt;lgl&gt; | czi_collection_name &lt;lgl&gt; |\n",
       "|---|---|---|---|---|---|---|---|---|---|---|---|---|---|\n",
       "| 24123125 | SRX17302366 | gs://arc-ctc-scbasecamp/2025-02-25/h5ad/GeneFull_Ex50pAS/Arabidopsis_thaliana/SRX17302366.h5ad.gz |  9036 | 10x_Genomics | 3_prime_gex | single_cell | Arabidopsis thaliana | other | not specified | BL (Brassinolide), 100nM, 0.5 hours post-treatment | WT Col-0 | NA | NA |\n",
       "| 24123140 | SRX17302381 | gs://arc-ctc-scbasecamp/2025-02-25/h5ad/GeneFull_Ex50pAS/Arabidopsis_thaliana/SRX17302381.h5ad.gz | 14317 | 10x_Genomics | 3_prime_gex | single_cell | Arabidopsis thaliana | other | not specified | control treatment, age: 7 days                     | WT Col-0 | NA | NA |\n",
       "| ⋮ | ⋮ | ⋮ | ⋮ | ⋮ | ⋮ | ⋮ | ⋮ | ⋮ | ⋮ | ⋮ | ⋮ | ⋮ | ⋮ |\n",
       "| 26767424 | SRX19487478 | gs://arc-ctc-scbasecamp/2025-02-25/h5ad/GeneFull_Ex50pAS/Bos_taurus/SRX19487478.h5ad.gz | 11477 | 10x_Genomics | 3_prime_gex | single_cell | Bos taurus | blood | not specified | 2 h LPS (Lipopolysaccharide) | Peripheral blood mononuclear cells (PBMCs) | NA | NA |\n",
       "| 27384248 | SRX19992927 | gs://arc-ctc-scbasecamp/2025-02-25/h5ad/GeneFull_Ex50pAS/Bos_taurus/SRX19992927.h5ad.gz |  5851 | 10x_Genomics | 3_prime_gex | single_cell | Bos taurus | milk  | Not specified | Not specified                | MiDC (Milk-derived adherent cells)         | NA | NA |\n",
       "\n"
      ],
      "text/plain": [
       "   entrez_id srx_accession\n",
       "1  24123125  SRX17302366  \n",
       "2  24123140  SRX17302381  \n",
       "⋮  ⋮         ⋮            \n",
       "19 26767424  SRX19487478  \n",
       "20 27384248  SRX19992927  \n",
       "   file_path                                                                                        \n",
       "1  gs://arc-ctc-scbasecamp/2025-02-25/h5ad/GeneFull_Ex50pAS/Arabidopsis_thaliana/SRX17302366.h5ad.gz\n",
       "2  gs://arc-ctc-scbasecamp/2025-02-25/h5ad/GeneFull_Ex50pAS/Arabidopsis_thaliana/SRX17302381.h5ad.gz\n",
       "⋮  ⋮                                                                                                \n",
       "19 gs://arc-ctc-scbasecamp/2025-02-25/h5ad/GeneFull_Ex50pAS/Bos_taurus/SRX19487478.h5ad.gz          \n",
       "20 gs://arc-ctc-scbasecamp/2025-02-25/h5ad/GeneFull_Ex50pAS/Bos_taurus/SRX19992927.h5ad.gz          \n",
       "   obs_count lib_prep     tech_10x    cell_prep   organism             tissue\n",
       "1   9036     10x_Genomics 3_prime_gex single_cell Arabidopsis thaliana other \n",
       "2  14317     10x_Genomics 3_prime_gex single_cell Arabidopsis thaliana other \n",
       "⋮  ⋮         ⋮            ⋮           ⋮           ⋮                    ⋮     \n",
       "19 11477     10x_Genomics 3_prime_gex single_cell Bos taurus           blood \n",
       "20  5851     10x_Genomics 3_prime_gex single_cell Bos taurus           milk  \n",
       "   disease       purturbation                                      \n",
       "1  not specified BL (Brassinolide), 100nM, 0.5 hours post-treatment\n",
       "2  not specified control treatment, age: 7 days                    \n",
       "⋮  ⋮             ⋮                                                 \n",
       "19 not specified 2 h LPS (Lipopolysaccharide)                      \n",
       "20 Not specified Not specified                                     \n",
       "   cell_line                                  czi_collection_id\n",
       "1  WT Col-0                                   NA               \n",
       "2  WT Col-0                                   NA               \n",
       "⋮  ⋮                                          ⋮                \n",
       "19 Peripheral blood mononuclear cells (PBMCs) NA               \n",
       "20 MiDC (Milk-derived adherent cells)         NA               \n",
       "   czi_collection_name\n",
       "1  NA                 \n",
       "2  NA                 \n",
       "⋮  ⋮                  \n",
       "19 NA                 \n",
       "20 NA                 "
      ]
     },
     "metadata": {},
     "output_type": "display_data"
    }
   ],
   "source": [
    "# re-print our selected samples\n",
    "sample_metadata"
   ]
  },
  {
   "cell_type": "code",
   "execution_count": 21,
   "metadata": {
    "vscode": {
     "languageId": "r"
    }
   },
   "outputs": [
    {
     "data": {
      "text/html": [
       "<table class=\"dataframe\">\n",
       "<caption>A data.frame: 188268 × 18</caption>\n",
       "<thead>\n",
       "\t<tr><th scope=col>entrez_id</th><th scope=col>srx_accession</th><th scope=col>file_path</th><th scope=col>obs_count</th><th scope=col>lib_prep</th><th scope=col>tech_10x</th><th scope=col>cell_prep</th><th scope=col>organism</th><th scope=col>tissue</th><th scope=col>disease</th><th scope=col>purturbation</th><th scope=col>cell_line</th><th scope=col>czi_collection_id</th><th scope=col>czi_collection_name</th><th scope=col>gene_count</th><th scope=col>umi_count</th><th scope=col>cell_barcode</th><th scope=col>__index_level_0__</th></tr>\n",
       "\t<tr><th scope=col>&lt;int&gt;</th><th scope=col>&lt;chr&gt;</th><th scope=col>&lt;chr&gt;</th><th scope=col>&lt;int&gt;</th><th scope=col>&lt;chr&gt;</th><th scope=col>&lt;chr&gt;</th><th scope=col>&lt;chr&gt;</th><th scope=col>&lt;chr&gt;</th><th scope=col>&lt;chr&gt;</th><th scope=col>&lt;chr&gt;</th><th scope=col>&lt;chr&gt;</th><th scope=col>&lt;chr&gt;</th><th scope=col>&lt;lgl&gt;</th><th scope=col>&lt;lgl&gt;</th><th scope=col>&lt;int&gt;</th><th scope=col>&lt;dbl&gt;</th><th scope=col>&lt;chr&gt;</th><th scope=col>&lt;int&gt;</th></tr>\n",
       "</thead>\n",
       "<tbody>\n",
       "\t<tr><td>24123125</td><td>SRX17302366</td><td>gs://arc-ctc-scbasecamp/2025-02-25/h5ad/GeneFull_Ex50pAS/Arabidopsis_thaliana/SRX17302366.h5ad.gz</td><td>9036</td><td>10x_Genomics</td><td>3_prime_gex</td><td>single_cell</td><td>Arabidopsis thaliana</td><td>other</td><td>not specified</td><td>BL (Brassinolide), 100nM, 0.5 hours post-treatment</td><td>WT Col-0</td><td>NA</td><td>NA</td><td>9126</td><td>77277</td><td>AAACCCAAGAGTGGCT</td><td>0</td></tr>\n",
       "\t<tr><td>24123125</td><td>SRX17302366</td><td>gs://arc-ctc-scbasecamp/2025-02-25/h5ad/GeneFull_Ex50pAS/Arabidopsis_thaliana/SRX17302366.h5ad.gz</td><td>9036</td><td>10x_Genomics</td><td>3_prime_gex</td><td>single_cell</td><td>Arabidopsis thaliana</td><td>other</td><td>not specified</td><td>BL (Brassinolide), 100nM, 0.5 hours post-treatment</td><td>WT Col-0</td><td>NA</td><td>NA</td><td>4300</td><td>11263</td><td>AAACCCAAGGCGATAC</td><td>1</td></tr>\n",
       "\t<tr><td>⋮</td><td>⋮</td><td>⋮</td><td>⋮</td><td>⋮</td><td>⋮</td><td>⋮</td><td>⋮</td><td>⋮</td><td>⋮</td><td>⋮</td><td>⋮</td><td>⋮</td><td>⋮</td><td>⋮</td><td>⋮</td><td>⋮</td><td>⋮</td></tr>\n",
       "\t<tr><td>27384248</td><td>SRX19992927</td><td>gs://arc-ctc-scbasecamp/2025-02-25/h5ad/GeneFull_Ex50pAS/Bos_taurus/SRX19992927.h5ad.gz</td><td>5851</td><td>10x_Genomics</td><td>3_prime_gex</td><td>single_cell</td><td>Bos taurus</td><td>milk</td><td>Not specified</td><td>Not specified</td><td>MiDC (Milk-derived adherent cells)</td><td>NA</td><td>NA</td><td>464</td><td>766</td><td>TTTGTTGGTACAAAGT</td><td>5849</td></tr>\n",
       "\t<tr><td>27384248</td><td>SRX19992927</td><td>gs://arc-ctc-scbasecamp/2025-02-25/h5ad/GeneFull_Ex50pAS/Bos_taurus/SRX19992927.h5ad.gz</td><td>5851</td><td>10x_Genomics</td><td>3_prime_gex</td><td>single_cell</td><td>Bos taurus</td><td>milk</td><td>Not specified</td><td>Not specified</td><td>MiDC (Milk-derived adherent cells)</td><td>NA</td><td>NA</td><td>422</td><td>731</td><td>TTTGTTGGTGGGTCAA</td><td>5850</td></tr>\n",
       "</tbody>\n",
       "</table>\n"
      ],
      "text/latex": [
       "A data.frame: 188268 × 18\n",
       "\\begin{tabular}{llllllllllllllllll}\n",
       " entrez\\_id & srx\\_accession & file\\_path & obs\\_count & lib\\_prep & tech\\_10x & cell\\_prep & organism & tissue & disease & purturbation & cell\\_line & czi\\_collection\\_id & czi\\_collection\\_name & gene\\_count & umi\\_count & cell\\_barcode & \\_\\_index\\_level\\_0\\_\\_\\\\\n",
       " <int> & <chr> & <chr> & <int> & <chr> & <chr> & <chr> & <chr> & <chr> & <chr> & <chr> & <chr> & <lgl> & <lgl> & <int> & <dbl> & <chr> & <int>\\\\\n",
       "\\hline\n",
       "\t 24123125 & SRX17302366 & gs://arc-ctc-scbasecamp/2025-02-25/h5ad/GeneFull\\_Ex50pAS/Arabidopsis\\_thaliana/SRX17302366.h5ad.gz & 9036 & 10x\\_Genomics & 3\\_prime\\_gex & single\\_cell & Arabidopsis thaliana & other & not specified & BL (Brassinolide), 100nM, 0.5 hours post-treatment & WT Col-0 & NA & NA & 9126 & 77277 & AAACCCAAGAGTGGCT & 0\\\\\n",
       "\t 24123125 & SRX17302366 & gs://arc-ctc-scbasecamp/2025-02-25/h5ad/GeneFull\\_Ex50pAS/Arabidopsis\\_thaliana/SRX17302366.h5ad.gz & 9036 & 10x\\_Genomics & 3\\_prime\\_gex & single\\_cell & Arabidopsis thaliana & other & not specified & BL (Brassinolide), 100nM, 0.5 hours post-treatment & WT Col-0 & NA & NA & 4300 & 11263 & AAACCCAAGGCGATAC & 1\\\\\n",
       "\t ⋮ & ⋮ & ⋮ & ⋮ & ⋮ & ⋮ & ⋮ & ⋮ & ⋮ & ⋮ & ⋮ & ⋮ & ⋮ & ⋮ & ⋮ & ⋮ & ⋮ & ⋮\\\\\n",
       "\t 27384248 & SRX19992927 & gs://arc-ctc-scbasecamp/2025-02-25/h5ad/GeneFull\\_Ex50pAS/Bos\\_taurus/SRX19992927.h5ad.gz & 5851 & 10x\\_Genomics & 3\\_prime\\_gex & single\\_cell & Bos taurus & milk & Not specified & Not specified & MiDC (Milk-derived adherent cells) & NA & NA & 464 & 766 & TTTGTTGGTACAAAGT & 5849\\\\\n",
       "\t 27384248 & SRX19992927 & gs://arc-ctc-scbasecamp/2025-02-25/h5ad/GeneFull\\_Ex50pAS/Bos\\_taurus/SRX19992927.h5ad.gz & 5851 & 10x\\_Genomics & 3\\_prime\\_gex & single\\_cell & Bos taurus & milk & Not specified & Not specified & MiDC (Milk-derived adherent cells) & NA & NA & 422 & 731 & TTTGTTGGTGGGTCAA & 5850\\\\\n",
       "\\end{tabular}\n"
      ],
      "text/markdown": [
       "\n",
       "A data.frame: 188268 × 18\n",
       "\n",
       "| entrez_id &lt;int&gt; | srx_accession &lt;chr&gt; | file_path &lt;chr&gt; | obs_count &lt;int&gt; | lib_prep &lt;chr&gt; | tech_10x &lt;chr&gt; | cell_prep &lt;chr&gt; | organism &lt;chr&gt; | tissue &lt;chr&gt; | disease &lt;chr&gt; | purturbation &lt;chr&gt; | cell_line &lt;chr&gt; | czi_collection_id &lt;lgl&gt; | czi_collection_name &lt;lgl&gt; | gene_count &lt;int&gt; | umi_count &lt;dbl&gt; | cell_barcode &lt;chr&gt; | __index_level_0__ &lt;int&gt; |\n",
       "|---|---|---|---|---|---|---|---|---|---|---|---|---|---|---|---|---|---|\n",
       "| 24123125 | SRX17302366 | gs://arc-ctc-scbasecamp/2025-02-25/h5ad/GeneFull_Ex50pAS/Arabidopsis_thaliana/SRX17302366.h5ad.gz | 9036 | 10x_Genomics | 3_prime_gex | single_cell | Arabidopsis thaliana | other | not specified | BL (Brassinolide), 100nM, 0.5 hours post-treatment | WT Col-0 | NA | NA | 9126 | 77277 | AAACCCAAGAGTGGCT | 0 |\n",
       "| 24123125 | SRX17302366 | gs://arc-ctc-scbasecamp/2025-02-25/h5ad/GeneFull_Ex50pAS/Arabidopsis_thaliana/SRX17302366.h5ad.gz | 9036 | 10x_Genomics | 3_prime_gex | single_cell | Arabidopsis thaliana | other | not specified | BL (Brassinolide), 100nM, 0.5 hours post-treatment | WT Col-0 | NA | NA | 4300 | 11263 | AAACCCAAGGCGATAC | 1 |\n",
       "| ⋮ | ⋮ | ⋮ | ⋮ | ⋮ | ⋮ | ⋮ | ⋮ | ⋮ | ⋮ | ⋮ | ⋮ | ⋮ | ⋮ | ⋮ | ⋮ | ⋮ | ⋮ |\n",
       "| 27384248 | SRX19992927 | gs://arc-ctc-scbasecamp/2025-02-25/h5ad/GeneFull_Ex50pAS/Bos_taurus/SRX19992927.h5ad.gz | 5851 | 10x_Genomics | 3_prime_gex | single_cell | Bos taurus | milk | Not specified | Not specified | MiDC (Milk-derived adherent cells) | NA | NA | 464 | 766 | TTTGTTGGTACAAAGT | 5849 |\n",
       "| 27384248 | SRX19992927 | gs://arc-ctc-scbasecamp/2025-02-25/h5ad/GeneFull_Ex50pAS/Bos_taurus/SRX19992927.h5ad.gz | 5851 | 10x_Genomics | 3_prime_gex | single_cell | Bos taurus | milk | Not specified | Not specified | MiDC (Milk-derived adherent cells) | NA | NA | 422 | 731 | TTTGTTGGTGGGTCAA | 5850 |\n",
       "\n"
      ],
      "text/plain": [
       "       entrez_id srx_accession\n",
       "1      24123125  SRX17302366  \n",
       "2      24123125  SRX17302366  \n",
       "⋮      ⋮         ⋮            \n",
       "188267 27384248  SRX19992927  \n",
       "188268 27384248  SRX19992927  \n",
       "       file_path                                                                                        \n",
       "1      gs://arc-ctc-scbasecamp/2025-02-25/h5ad/GeneFull_Ex50pAS/Arabidopsis_thaliana/SRX17302366.h5ad.gz\n",
       "2      gs://arc-ctc-scbasecamp/2025-02-25/h5ad/GeneFull_Ex50pAS/Arabidopsis_thaliana/SRX17302366.h5ad.gz\n",
       "⋮      ⋮                                                                                                \n",
       "188267 gs://arc-ctc-scbasecamp/2025-02-25/h5ad/GeneFull_Ex50pAS/Bos_taurus/SRX19992927.h5ad.gz          \n",
       "188268 gs://arc-ctc-scbasecamp/2025-02-25/h5ad/GeneFull_Ex50pAS/Bos_taurus/SRX19992927.h5ad.gz          \n",
       "       obs_count lib_prep     tech_10x    cell_prep   organism            \n",
       "1      9036      10x_Genomics 3_prime_gex single_cell Arabidopsis thaliana\n",
       "2      9036      10x_Genomics 3_prime_gex single_cell Arabidopsis thaliana\n",
       "⋮      ⋮         ⋮            ⋮           ⋮           ⋮                   \n",
       "188267 5851      10x_Genomics 3_prime_gex single_cell Bos taurus          \n",
       "188268 5851      10x_Genomics 3_prime_gex single_cell Bos taurus          \n",
       "       tissue disease       purturbation                                      \n",
       "1      other  not specified BL (Brassinolide), 100nM, 0.5 hours post-treatment\n",
       "2      other  not specified BL (Brassinolide), 100nM, 0.5 hours post-treatment\n",
       "⋮      ⋮      ⋮             ⋮                                                 \n",
       "188267 milk   Not specified Not specified                                     \n",
       "188268 milk   Not specified Not specified                                     \n",
       "       cell_line                          czi_collection_id czi_collection_name\n",
       "1      WT Col-0                           NA                NA                 \n",
       "2      WT Col-0                           NA                NA                 \n",
       "⋮      ⋮                                  ⋮                 ⋮                  \n",
       "188267 MiDC (Milk-derived adherent cells) NA                NA                 \n",
       "188268 MiDC (Milk-derived adherent cells) NA                NA                 \n",
       "       gene_count umi_count cell_barcode     __index_level_0__\n",
       "1      9126       77277     AAACCCAAGAGTGGCT 0                \n",
       "2      4300       11263     AAACCCAAGGCGATAC 1                \n",
       "⋮      ⋮          ⋮         ⋮                ⋮                \n",
       "188267 464        766       TTTGTTGGTACAAAGT 5849             \n",
       "188268 422        731       TTTGTTGGTGGGTCAA 5850             "
      ]
     },
     "metadata": {},
     "output_type": "display_data"
    }
   ],
   "source": [
    "# read the metadata files\n",
    "target_organisms = sample_metadata %>% pull(organism) %>% unique() %>% gsub(\" \", \"_\", .)\n",
    "obs_metadata = obs_pq_files %>%\n",
    "  filter(organism %in% target_organisms) %>%\n",
    "  pull(file_path) %>%\n",
    "  lapply(read_data) %>%\n",
    "  bind_rows()\n",
    "\n",
    "# join on SRX accession\n",
    "obs_metadata = sample_metadata %>%\n",
    "  inner_join(obs_metadata, by = c(\"srx_accession\" = \"SRX_accession\"))\n",
    "obs_metadata"
   ]
  },
  {
   "cell_type": "code",
   "execution_count": 22,
   "metadata": {
    "vscode": {
     "languageId": "r"
    }
   },
   "outputs": [
    {
     "data": {
      "text/html": [
       "<table class=\"dataframe\">\n",
       "<caption>A tibble: 2 × 6</caption>\n",
       "<thead>\n",
       "\t<tr><th scope=col>organism</th><th scope=col>min</th><th scope=col>max</th><th scope=col>mean</th><th scope=col>median</th><th scope=col>sd</th></tr>\n",
       "\t<tr><th scope=col>&lt;chr&gt;</th><th scope=col>&lt;int&gt;</th><th scope=col>&lt;int&gt;</th><th scope=col>&lt;dbl&gt;</th><th scope=col>&lt;dbl&gt;</th><th scope=col>&lt;dbl&gt;</th></tr>\n",
       "</thead>\n",
       "<tbody>\n",
       "\t<tr><td>Arabidopsis thaliana</td><td>119</td><td>14336</td><td>1959.175</td><td>1464</td><td>1605.399</td></tr>\n",
       "\t<tr><td>Bos taurus          </td><td> 61</td><td>11248</td><td>2665.464</td><td>2317</td><td>1885.132</td></tr>\n",
       "</tbody>\n",
       "</table>\n"
      ],
      "text/latex": [
       "A tibble: 2 × 6\n",
       "\\begin{tabular}{llllll}\n",
       " organism & min & max & mean & median & sd\\\\\n",
       " <chr> & <int> & <int> & <dbl> & <dbl> & <dbl>\\\\\n",
       "\\hline\n",
       "\t Arabidopsis thaliana & 119 & 14336 & 1959.175 & 1464 & 1605.399\\\\\n",
       "\t Bos taurus           &  61 & 11248 & 2665.464 & 2317 & 1885.132\\\\\n",
       "\\end{tabular}\n"
      ],
      "text/markdown": [
       "\n",
       "A tibble: 2 × 6\n",
       "\n",
       "| organism &lt;chr&gt; | min &lt;int&gt; | max &lt;int&gt; | mean &lt;dbl&gt; | median &lt;dbl&gt; | sd &lt;dbl&gt; |\n",
       "|---|---|---|---|---|---|\n",
       "| Arabidopsis thaliana | 119 | 14336 | 1959.175 | 1464 | 1605.399 |\n",
       "| Bos taurus           |  61 | 11248 | 2665.464 | 2317 | 1885.132 |\n",
       "\n"
      ],
      "text/plain": [
       "  organism             min max   mean     median sd      \n",
       "1 Arabidopsis thaliana 119 14336 1959.175 1464   1605.399\n",
       "2 Bos taurus            61 11248 2665.464 2317   1885.132"
      ]
     },
     "metadata": {},
     "output_type": "display_data"
    }
   ],
   "source": [
    "# summarize gene counts per organism\n",
    "obs_metadata %>%\n",
    "  group_by(organism) %>%\n",
    "  summarise(\n",
    "    min = min(gene_count),\n",
    "    max = max(gene_count),\n",
    "    mean = mean(gene_count),\n",
    "    median = median(gene_count),\n",
    "    sd = sd(gene_count)\n",
    "  )"
   ]
  },
  {
   "cell_type": "code",
   "execution_count": 23,
   "metadata": {
    "vscode": {
     "languageId": "r"
    }
   },
   "outputs": [
    {
     "data": {
      "text/html": [
       "<table class=\"dataframe\">\n",
       "<caption>A tibble: 2 × 6</caption>\n",
       "<thead>\n",
       "\t<tr><th scope=col>organism</th><th scope=col>min</th><th scope=col>max</th><th scope=col>mean</th><th scope=col>median</th><th scope=col>sd</th></tr>\n",
       "\t<tr><th scope=col>&lt;chr&gt;</th><th scope=col>&lt;dbl&gt;</th><th scope=col>&lt;dbl&gt;</th><th scope=col>&lt;dbl&gt;</th><th scope=col>&lt;dbl&gt;</th><th scope=col>&lt;dbl&gt;</th></tr>\n",
       "</thead>\n",
       "<tbody>\n",
       "\t<tr><td>Arabidopsis thaliana</td><td>399</td><td>487844</td><td> 7441.814</td><td>2583</td><td>16833.84</td></tr>\n",
       "\t<tr><td>Bos taurus          </td><td>500</td><td>321408</td><td>11217.109</td><td>6277</td><td>14692.41</td></tr>\n",
       "</tbody>\n",
       "</table>\n"
      ],
      "text/latex": [
       "A tibble: 2 × 6\n",
       "\\begin{tabular}{llllll}\n",
       " organism & min & max & mean & median & sd\\\\\n",
       " <chr> & <dbl> & <dbl> & <dbl> & <dbl> & <dbl>\\\\\n",
       "\\hline\n",
       "\t Arabidopsis thaliana & 399 & 487844 &  7441.814 & 2583 & 16833.84\\\\\n",
       "\t Bos taurus           & 500 & 321408 & 11217.109 & 6277 & 14692.41\\\\\n",
       "\\end{tabular}\n"
      ],
      "text/markdown": [
       "\n",
       "A tibble: 2 × 6\n",
       "\n",
       "| organism &lt;chr&gt; | min &lt;dbl&gt; | max &lt;dbl&gt; | mean &lt;dbl&gt; | median &lt;dbl&gt; | sd &lt;dbl&gt; |\n",
       "|---|---|---|---|---|---|\n",
       "| Arabidopsis thaliana | 399 | 487844 |  7441.814 | 2583 | 16833.84 |\n",
       "| Bos taurus           | 500 | 321408 | 11217.109 | 6277 | 14692.41 |\n",
       "\n"
      ],
      "text/plain": [
       "  organism             min max    mean      median sd      \n",
       "1 Arabidopsis thaliana 399 487844  7441.814 2583   16833.84\n",
       "2 Bos taurus           500 321408 11217.109 6277   14692.41"
      ]
     },
     "metadata": {},
     "output_type": "display_data"
    }
   ],
   "source": [
    "# summarize umi counts per organism\n",
    "obs_metadata %>%\n",
    "  group_by(organism) %>%\n",
    "  summarise(\n",
    "    min = min(umi_count),\n",
    "    max = max(umi_count),\n",
    "    mean = mean(umi_count),\n",
    "    median = median(umi_count),\n",
    "    sd = sd(umi_count)\n",
    "  )"
   ]
  },
  {
   "cell_type": "markdown",
   "metadata": {},
   "source": [
    "# Load h5ad files"
   ]
  },
  {
   "cell_type": "code",
   "execution_count": 24,
   "metadata": {
    "vscode": {
     "languageId": "r"
    }
   },
   "outputs": [],
   "source": [
    "gcs_auth(json_file = Sys.getenv(\"GOOGLE_APPLICATION_CREDENTIALS\"))"
   ]
  },
  {
   "cell_type": "code",
   "execution_count": 25,
   "metadata": {
    "vscode": {
     "languageId": "r"
    }
   },
   "outputs": [],
   "source": [
    "# example\n",
    "infile = \"gs://arc-ctc-scbasecamp/2025-02-25/h5ad/Gene/Arabidopsis_thaliana/SRX16110574.h5ad.gz\"\n",
    "\n",
    "# split bucket and path\n",
    "bucket = unlist(strsplit(infile, \"/\"))[3]\n",
    "path = paste(unlist(strsplit(infile, \"/\"))[-(1:3)], collapse = \"/\")"
   ]
  },
  {
   "cell_type": "code",
   "execution_count": 26,
   "metadata": {
    "vscode": {
     "languageId": "r"
    }
   },
   "outputs": [],
   "source": [
    "# create a temp file\n",
    "temp_file = tempfile(fileext = \".h5ad.gz\")"
   ]
  },
  {
   "cell_type": "code",
   "execution_count": 27,
   "metadata": {
    "vscode": {
     "languageId": "r"
    }
   },
   "outputs": [
    {
     "name": "stderr",
     "output_type": "stream",
     "text": [
      "\u001b[36mℹ\u001b[39m Downloading 2025-02-25/h5ad/Gene/Arabidopsis_thaliana/SRX16110574.h5ad.gz\n",
      "\n"
     ]
    },
    {
     "name": "stderr",
     "output_type": "stream",
     "text": [
      "\u001b[32m✔\u001b[39m Saved 2025-02-25/h5ad/Gene/Arabidopsis_thaliana/SRX16110574.h5ad.gz to /tmp/R…\n",
      "\n",
      "\n",
      "\n"
     ]
    },
    {
     "data": {
      "text/html": [
       "TRUE"
      ],
      "text/latex": [
       "TRUE"
      ],
      "text/markdown": [
       "TRUE"
      ],
      "text/plain": [
       "[1] TRUE"
      ]
     },
     "metadata": {},
     "output_type": "display_data"
    }
   ],
   "source": [
    "# Download the file to a temporary location\n",
    "gcs_get_object(object_name = path, bucket = bucket, saveToDisk = temp_file, overwrite = TRUE)"
   ]
  },
  {
   "cell_type": "code",
   "execution_count": 28,
   "metadata": {
    "vscode": {
     "languageId": "r"
    }
   },
   "outputs": [
    {
     "data": {
      "text/plain": [
       "AnnData object with n_obs × n_vars = 5906 × 31109\n",
       "    obs: 'gene_count', 'umi_count', 'SRX_accession'\n",
       "    var: 'gene_symbols', 'feature_types'"
      ]
     },
     "metadata": {},
     "output_type": "display_data"
    }
   ],
   "source": [
    "# read in anndata object\n",
    "adata = ad$read_h5ad(temp_file)\n",
    "adata"
   ]
  },
  {
   "cell_type": "markdown",
   "metadata": {
    "vscode": {
     "languageId": "r"
    }
   },
   "source": [
    "# Downloading files\n",
    "\n",
    "You can use [gsutil](https://cloud.google.com/storage/docs/gsutil) to download any of the files in the bucket\n",
    "and work with them locally. \n",
    "\n",
    "Please be considerate to the [cost of egress](https://cloud.google.com/storage/pricing) when download the data from Google Cloud Storage.\n",
    "\n",
    "For example:\n",
    "\n",
    "```bash\n",
    "gsutil cp gs://arc-ctc-scbasecamp/2025-02-25/h5ad/Homo_sapiens/ERX4319106.h5ad.gz .\n",
    "```\n",
    "\n",
    "For large data transfers, it is better to use `gsutil rsync`:\n",
    "\n",
    "```bash\n",
    "gsutil rsync gs://arc-ctc-scbasecamp/2025-02-25/h5ad/Callithrix_jacchus/ .\n",
    "```"
   ]
  },
  {
   "cell_type": "markdown",
   "metadata": {
    "vscode": {
     "languageId": "r"
    }
   },
   "source": [
    "***\n",
    "\n",
    "# sessionInfo"
   ]
  },
  {
   "cell_type": "code",
   "execution_count": 29,
   "metadata": {
    "vscode": {
     "languageId": "r"
    }
   },
   "outputs": [
    {
     "data": {
      "text/plain": [
       "R version 4.2.3 (2023-03-15)\n",
       "Platform: x86_64-conda-linux-gnu (64-bit)\n",
       "Running under: Ubuntu 22.04.3 LTS\n",
       "\n",
       "Matrix products: default\n",
       "BLAS/LAPACK: /home/nickyoungblut/miniforge3/envs/scbasecamp_renv/lib/libopenblasp-r0.3.29.so\n",
       "\n",
       "locale:\n",
       " [1] LC_CTYPE=C.UTF-8       LC_NUMERIC=C           LC_TIME=C.UTF-8       \n",
       " [4] LC_COLLATE=C.UTF-8     LC_MONETARY=C.UTF-8    LC_MESSAGES=C.UTF-8   \n",
       " [7] LC_PAPER=C.UTF-8       LC_NAME=C              LC_ADDRESS=C          \n",
       "[10] LC_TELEPHONE=C         LC_MEASUREMENT=C.UTF-8 LC_IDENTIFICATION=C   \n",
       "\n",
       "attached base packages:\n",
       "[1] stats     graphics  grDevices utils     datasets  methods   base     \n",
       "\n",
       "other attached packages:\n",
       "[1] googleCloudStorageR_0.7.0 reticulate_1.38.0        \n",
       "[3] arrow_16.1.0              dplyr_1.1.4              \n",
       "\n",
       "loaded via a namespace (and not attached):\n",
       " [1] zip_2.3.1         Rcpp_1.0.12       googleAuthR_2.0.2 pillar_1.9.0     \n",
       " [5] compiler_4.2.3    base64enc_0.1-3   tools_4.2.3       digest_0.6.36    \n",
       " [9] uuid_1.2-0        bit_4.0.5         gargle_1.5.2      memoise_2.0.1    \n",
       "[13] jsonlite_1.8.8    evaluate_0.24.0   lifecycle_1.0.4   tibble_3.2.1     \n",
       "[17] lattice_0.22-6    png_0.1-8         pkgconfig_2.0.3   rlang_1.1.4      \n",
       "[21] Matrix_1.6-5      IRdisplay_1.1     cli_3.6.3         yaml_2.3.8       \n",
       "[25] curl_5.1.0        IRkernel_1.3.2    fastmap_1.2.0     withr_3.0.0      \n",
       "[29] httr_1.4.7        repr_1.1.7        rappdirs_0.3.3    askpass_1.2.0    \n",
       "[33] fs_1.6.4          generics_0.1.3    vctrs_0.6.5       rprojroot_2.0.4  \n",
       "[37] bit64_4.0.5       grid_4.2.3        tidyselect_1.2.1  here_1.0.1       \n",
       "[41] glue_1.7.0        R6_2.5.1          fansi_1.0.6       pbdZMQ_0.3-11    \n",
       "[45] purrr_1.0.2       magrittr_2.0.3    htmltools_0.5.8.1 assertthat_0.2.1 \n",
       "[49] utf8_1.2.4        openssl_2.2.0     cachem_1.1.0      crayon_1.5.3     "
      ]
     },
     "metadata": {},
     "output_type": "display_data"
    }
   ],
   "source": [
    "sessionInfo()"
   ]
  }
 ],
 "metadata": {
  "kernelspec": {
   "display_name": "R",
   "language": "R",
   "name": "ir"
  },
  "language_info": {
   "codemirror_mode": "r",
   "file_extension": ".r",
   "mimetype": "text/x-r-source",
   "name": "R",
   "pygments_lexer": "r",
   "version": "4.2.3"
  }
 },
 "nbformat": 4,
 "nbformat_minor": 2
}
